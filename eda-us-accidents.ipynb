{
 "cells": [
  {
   "cell_type": "code",
   "execution_count": 1,
   "id": "1c52b0ff",
   "metadata": {
    "_cell_guid": "b1076dfc-b9ad-4769-8c92-a6c4dae69d19",
    "_uuid": "8f2839f25d086af736a60e9eeb907d3b93b6e0e5",
    "execution": {
     "iopub.execute_input": "2021-11-17T21:19:35.141716Z",
     "iopub.status.busy": "2021-11-17T21:19:35.136286Z",
     "iopub.status.idle": "2021-11-17T21:19:35.160529Z",
     "shell.execute_reply": "2021-11-17T21:19:35.159674Z",
     "shell.execute_reply.started": "2021-11-16T03:35:15.762521Z"
    },
    "papermill": {
     "duration": 0.063418,
     "end_time": "2021-11-17T21:19:35.160709",
     "exception": false,
     "start_time": "2021-11-17T21:19:35.097291",
     "status": "completed"
    },
    "tags": []
   },
   "outputs": [
    {
     "name": "stdout",
     "output_type": "stream",
     "text": [
      "/kaggle/input/us-accidents/US_Accidents_Dec20_updated.csv\n"
     ]
    }
   ],
   "source": [
    "# This Python 3 environment comes with many helpful analytics libraries installed\n",
    "# It is defined by the kaggle/python Docker image: https://github.com/kaggle/docker-python\n",
    "# For example, here's several helpful packages to load\n",
    "\n",
    "import numpy as np # linear algebra\n",
    "import pandas as pd # data processing, CSV file I/O (e.g. pd.read_csv)\n",
    "\n",
    "# Input data files are available in the read-only \"../input/\" directory\n",
    "# For example, running this (by clicking run or pressing Shift+Enter) will list all files under the input directory\n",
    "\n",
    "import os\n",
    "for dirname, _, filenames in os.walk('/kaggle/input'):\n",
    "    for filename in filenames:\n",
    "        print(os.path.join(dirname, filename))\n",
    "\n",
    "# You can write up to 20GB to the current directory (/kaggle/working/) that gets preserved as output when you create a version using \"Save & Run All\" \n",
    "# You can also write temporary files to /kaggle/temp/, but they won't be saved outside of the current session"
   ]
  },
  {
   "cell_type": "markdown",
   "id": "1576678c",
   "metadata": {
    "papermill": {
     "duration": 0.034765,
     "end_time": "2021-11-17T21:19:35.231268",
     "exception": false,
     "start_time": "2021-11-17T21:19:35.196503",
     "status": "completed"
    },
    "tags": []
   },
   "source": [
    "# US ACCIDENT DATA EXPLORATORY ANALYSIS\n",
    "* US Accidents Exploratory Data Analysis\n",
    "* TODO - talk about EDA\n",
    "* TODO - talk about the dataset (source, what it contains, how it will be useful)\n",
    "\n"
   ]
  },
  {
   "cell_type": "code",
   "execution_count": 2,
   "id": "0dd153ae",
   "metadata": {
    "execution": {
     "iopub.execute_input": "2021-11-17T21:19:35.303165Z",
     "iopub.status.busy": "2021-11-17T21:19:35.302575Z",
     "iopub.status.idle": "2021-11-17T21:19:35.306684Z",
     "shell.execute_reply": "2021-11-17T21:19:35.306212Z",
     "shell.execute_reply.started": "2021-11-16T03:35:18.993497Z"
    },
    "papermill": {
     "duration": 0.040785,
     "end_time": "2021-11-17T21:19:35.306804",
     "exception": false,
     "start_time": "2021-11-17T21:19:35.266019",
     "status": "completed"
    },
    "tags": []
   },
   "outputs": [],
   "source": [
    "data_filename='/kaggle/input/us-accidents/US_Accidents_Dec20_updated.csv'"
   ]
  },
  {
   "cell_type": "markdown",
   "id": "9c41b414",
   "metadata": {
    "papermill": {
     "duration": 0.034276,
     "end_time": "2021-11-17T21:19:35.375578",
     "exception": false,
     "start_time": "2021-11-17T21:19:35.341302",
     "status": "completed"
    },
    "tags": []
   },
   "source": [
    "### Data Preparation and Cleaning\n",
    "1. Load the file using Pandas\n",
    "2. Look at some information about the data & the columns\n",
    "3. Fix any missing or incorrect values "
   ]
  },
  {
   "cell_type": "code",
   "execution_count": 3,
   "id": "87249d18",
   "metadata": {
    "execution": {
     "iopub.execute_input": "2021-11-17T21:19:35.446972Z",
     "iopub.status.busy": "2021-11-17T21:19:35.446387Z",
     "iopub.status.idle": "2021-11-17T21:19:35.449556Z",
     "shell.execute_reply": "2021-11-17T21:19:35.450066Z",
     "shell.execute_reply.started": "2021-11-16T03:34:19.923115Z"
    },
    "papermill": {
     "duration": 0.040485,
     "end_time": "2021-11-17T21:19:35.450257",
     "exception": false,
     "start_time": "2021-11-17T21:19:35.409772",
     "status": "completed"
    },
    "tags": []
   },
   "outputs": [],
   "source": [
    "import pandas as pd\n",
    "import numpy as np"
   ]
  },
  {
   "cell_type": "code",
   "execution_count": 4,
   "id": "7e3f4df3",
   "metadata": {
    "execution": {
     "iopub.execute_input": "2021-11-17T21:19:35.522316Z",
     "iopub.status.busy": "2021-11-17T21:19:35.521711Z",
     "iopub.status.idle": "2021-11-17T21:19:53.345456Z",
     "shell.execute_reply": "2021-11-17T21:19:53.344685Z",
     "shell.execute_reply.started": "2021-11-16T03:35:23.172992Z"
    },
    "papermill": {
     "duration": 17.860644,
     "end_time": "2021-11-17T21:19:53.345603",
     "exception": false,
     "start_time": "2021-11-17T21:19:35.484959",
     "status": "completed"
    },
    "tags": []
   },
   "outputs": [],
   "source": [
    "df = pd.read_csv(data_filename)"
   ]
  },
  {
   "cell_type": "code",
   "execution_count": 5,
   "id": "75eed2cc",
   "metadata": {
    "execution": {
     "iopub.execute_input": "2021-11-17T21:19:53.424874Z",
     "iopub.status.busy": "2021-11-17T21:19:53.424163Z",
     "iopub.status.idle": "2021-11-17T21:19:54.394227Z",
     "shell.execute_reply": "2021-11-17T21:19:54.394733Z",
     "shell.execute_reply.started": "2021-11-16T03:35:45.608306Z"
    },
    "papermill": {
     "duration": 1.013781,
     "end_time": "2021-11-17T21:19:54.394906",
     "exception": false,
     "start_time": "2021-11-17T21:19:53.381125",
     "status": "completed"
    },
    "tags": []
   },
   "outputs": [
    {
     "data": {
      "text/html": [
       "<div>\n",
       "<style scoped>\n",
       "    .dataframe tbody tr th:only-of-type {\n",
       "        vertical-align: middle;\n",
       "    }\n",
       "\n",
       "    .dataframe tbody tr th {\n",
       "        vertical-align: top;\n",
       "    }\n",
       "\n",
       "    .dataframe thead th {\n",
       "        text-align: right;\n",
       "    }\n",
       "</style>\n",
       "<table border=\"1\" class=\"dataframe\">\n",
       "  <thead>\n",
       "    <tr style=\"text-align: right;\">\n",
       "      <th></th>\n",
       "      <th>ID</th>\n",
       "      <th>Severity</th>\n",
       "      <th>Start_Time</th>\n",
       "      <th>End_Time</th>\n",
       "      <th>Start_Lat</th>\n",
       "      <th>Start_Lng</th>\n",
       "      <th>End_Lat</th>\n",
       "      <th>End_Lng</th>\n",
       "      <th>Distance(mi)</th>\n",
       "      <th>Description</th>\n",
       "      <th>...</th>\n",
       "      <th>Roundabout</th>\n",
       "      <th>Station</th>\n",
       "      <th>Stop</th>\n",
       "      <th>Traffic_Calming</th>\n",
       "      <th>Traffic_Signal</th>\n",
       "      <th>Turning_Loop</th>\n",
       "      <th>Sunrise_Sunset</th>\n",
       "      <th>Civil_Twilight</th>\n",
       "      <th>Nautical_Twilight</th>\n",
       "      <th>Astronomical_Twilight</th>\n",
       "    </tr>\n",
       "  </thead>\n",
       "  <tbody>\n",
       "    <tr>\n",
       "      <th>0</th>\n",
       "      <td>A-2716600</td>\n",
       "      <td>3</td>\n",
       "      <td>2016-02-08 00:37:08</td>\n",
       "      <td>2016-02-08 06:37:08</td>\n",
       "      <td>40.10891</td>\n",
       "      <td>-83.09286</td>\n",
       "      <td>40.11206</td>\n",
       "      <td>-83.03187</td>\n",
       "      <td>3.230</td>\n",
       "      <td>Between Sawmill Rd/Exit 20 and OH-315/Olentang...</td>\n",
       "      <td>...</td>\n",
       "      <td>False</td>\n",
       "      <td>False</td>\n",
       "      <td>False</td>\n",
       "      <td>False</td>\n",
       "      <td>False</td>\n",
       "      <td>False</td>\n",
       "      <td>Night</td>\n",
       "      <td>Night</td>\n",
       "      <td>Night</td>\n",
       "      <td>Night</td>\n",
       "    </tr>\n",
       "    <tr>\n",
       "      <th>1</th>\n",
       "      <td>A-2716601</td>\n",
       "      <td>2</td>\n",
       "      <td>2016-02-08 05:56:20</td>\n",
       "      <td>2016-02-08 11:56:20</td>\n",
       "      <td>39.86542</td>\n",
       "      <td>-84.06280</td>\n",
       "      <td>39.86501</td>\n",
       "      <td>-84.04873</td>\n",
       "      <td>0.747</td>\n",
       "      <td>At OH-4/OH-235/Exit 41 - Accident.</td>\n",
       "      <td>...</td>\n",
       "      <td>False</td>\n",
       "      <td>False</td>\n",
       "      <td>False</td>\n",
       "      <td>False</td>\n",
       "      <td>False</td>\n",
       "      <td>False</td>\n",
       "      <td>Night</td>\n",
       "      <td>Night</td>\n",
       "      <td>Night</td>\n",
       "      <td>Night</td>\n",
       "    </tr>\n",
       "    <tr>\n",
       "      <th>2</th>\n",
       "      <td>A-2716602</td>\n",
       "      <td>2</td>\n",
       "      <td>2016-02-08 06:15:39</td>\n",
       "      <td>2016-02-08 12:15:39</td>\n",
       "      <td>39.10266</td>\n",
       "      <td>-84.52468</td>\n",
       "      <td>39.10209</td>\n",
       "      <td>-84.52396</td>\n",
       "      <td>0.055</td>\n",
       "      <td>At I-71/US-50/Exit 1 - Accident.</td>\n",
       "      <td>...</td>\n",
       "      <td>False</td>\n",
       "      <td>False</td>\n",
       "      <td>False</td>\n",
       "      <td>False</td>\n",
       "      <td>False</td>\n",
       "      <td>False</td>\n",
       "      <td>Night</td>\n",
       "      <td>Night</td>\n",
       "      <td>Night</td>\n",
       "      <td>Day</td>\n",
       "    </tr>\n",
       "    <tr>\n",
       "      <th>3</th>\n",
       "      <td>A-2716603</td>\n",
       "      <td>2</td>\n",
       "      <td>2016-02-08 06:15:39</td>\n",
       "      <td>2016-02-08 12:15:39</td>\n",
       "      <td>39.10148</td>\n",
       "      <td>-84.52341</td>\n",
       "      <td>39.09841</td>\n",
       "      <td>-84.52241</td>\n",
       "      <td>0.219</td>\n",
       "      <td>At I-71/US-50/Exit 1 - Accident.</td>\n",
       "      <td>...</td>\n",
       "      <td>False</td>\n",
       "      <td>False</td>\n",
       "      <td>False</td>\n",
       "      <td>False</td>\n",
       "      <td>False</td>\n",
       "      <td>False</td>\n",
       "      <td>Night</td>\n",
       "      <td>Night</td>\n",
       "      <td>Night</td>\n",
       "      <td>Day</td>\n",
       "    </tr>\n",
       "    <tr>\n",
       "      <th>4</th>\n",
       "      <td>A-2716604</td>\n",
       "      <td>2</td>\n",
       "      <td>2016-02-08 06:51:45</td>\n",
       "      <td>2016-02-08 12:51:45</td>\n",
       "      <td>41.06213</td>\n",
       "      <td>-81.53784</td>\n",
       "      <td>41.06217</td>\n",
       "      <td>-81.53547</td>\n",
       "      <td>0.123</td>\n",
       "      <td>At Dart Ave/Exit 21 - Accident.</td>\n",
       "      <td>...</td>\n",
       "      <td>False</td>\n",
       "      <td>False</td>\n",
       "      <td>False</td>\n",
       "      <td>False</td>\n",
       "      <td>False</td>\n",
       "      <td>False</td>\n",
       "      <td>Night</td>\n",
       "      <td>Night</td>\n",
       "      <td>Day</td>\n",
       "      <td>Day</td>\n",
       "    </tr>\n",
       "    <tr>\n",
       "      <th>...</th>\n",
       "      <td>...</td>\n",
       "      <td>...</td>\n",
       "      <td>...</td>\n",
       "      <td>...</td>\n",
       "      <td>...</td>\n",
       "      <td>...</td>\n",
       "      <td>...</td>\n",
       "      <td>...</td>\n",
       "      <td>...</td>\n",
       "      <td>...</td>\n",
       "      <td>...</td>\n",
       "      <td>...</td>\n",
       "      <td>...</td>\n",
       "      <td>...</td>\n",
       "      <td>...</td>\n",
       "      <td>...</td>\n",
       "      <td>...</td>\n",
       "      <td>...</td>\n",
       "      <td>...</td>\n",
       "      <td>...</td>\n",
       "      <td>...</td>\n",
       "    </tr>\n",
       "    <tr>\n",
       "      <th>1516059</th>\n",
       "      <td>A-4239402</td>\n",
       "      <td>2</td>\n",
       "      <td>2019-08-23 18:03:25</td>\n",
       "      <td>2019-08-23 18:32:01</td>\n",
       "      <td>34.00248</td>\n",
       "      <td>-117.37936</td>\n",
       "      <td>33.99888</td>\n",
       "      <td>-117.37094</td>\n",
       "      <td>0.543</td>\n",
       "      <td>At Market St - Accident.</td>\n",
       "      <td>...</td>\n",
       "      <td>False</td>\n",
       "      <td>False</td>\n",
       "      <td>False</td>\n",
       "      <td>False</td>\n",
       "      <td>False</td>\n",
       "      <td>False</td>\n",
       "      <td>Day</td>\n",
       "      <td>Day</td>\n",
       "      <td>Day</td>\n",
       "      <td>Day</td>\n",
       "    </tr>\n",
       "    <tr>\n",
       "      <th>1516060</th>\n",
       "      <td>A-4239403</td>\n",
       "      <td>2</td>\n",
       "      <td>2019-08-23 19:11:30</td>\n",
       "      <td>2019-08-23 19:38:23</td>\n",
       "      <td>32.76696</td>\n",
       "      <td>-117.14806</td>\n",
       "      <td>32.76555</td>\n",
       "      <td>-117.15363</td>\n",
       "      <td>0.338</td>\n",
       "      <td>At Camino Del Rio/Mission Center Rd - Accident.</td>\n",
       "      <td>...</td>\n",
       "      <td>False</td>\n",
       "      <td>False</td>\n",
       "      <td>False</td>\n",
       "      <td>False</td>\n",
       "      <td>False</td>\n",
       "      <td>False</td>\n",
       "      <td>Day</td>\n",
       "      <td>Day</td>\n",
       "      <td>Day</td>\n",
       "      <td>Day</td>\n",
       "    </tr>\n",
       "    <tr>\n",
       "      <th>1516061</th>\n",
       "      <td>A-4239404</td>\n",
       "      <td>2</td>\n",
       "      <td>2019-08-23 19:00:21</td>\n",
       "      <td>2019-08-23 19:28:49</td>\n",
       "      <td>33.77545</td>\n",
       "      <td>-117.84779</td>\n",
       "      <td>33.77740</td>\n",
       "      <td>-117.85727</td>\n",
       "      <td>0.561</td>\n",
       "      <td>At Glassell St/Grand Ave - Accident. in the ri...</td>\n",
       "      <td>...</td>\n",
       "      <td>False</td>\n",
       "      <td>False</td>\n",
       "      <td>False</td>\n",
       "      <td>False</td>\n",
       "      <td>False</td>\n",
       "      <td>False</td>\n",
       "      <td>Day</td>\n",
       "      <td>Day</td>\n",
       "      <td>Day</td>\n",
       "      <td>Day</td>\n",
       "    </tr>\n",
       "    <tr>\n",
       "      <th>1516062</th>\n",
       "      <td>A-4239405</td>\n",
       "      <td>2</td>\n",
       "      <td>2019-08-23 19:00:21</td>\n",
       "      <td>2019-08-23 19:29:42</td>\n",
       "      <td>33.99246</td>\n",
       "      <td>-118.40302</td>\n",
       "      <td>33.98311</td>\n",
       "      <td>-118.39565</td>\n",
       "      <td>0.772</td>\n",
       "      <td>At CA-90/Marina Fwy/Jefferson Blvd - Accident.</td>\n",
       "      <td>...</td>\n",
       "      <td>False</td>\n",
       "      <td>False</td>\n",
       "      <td>False</td>\n",
       "      <td>False</td>\n",
       "      <td>False</td>\n",
       "      <td>False</td>\n",
       "      <td>Day</td>\n",
       "      <td>Day</td>\n",
       "      <td>Day</td>\n",
       "      <td>Day</td>\n",
       "    </tr>\n",
       "    <tr>\n",
       "      <th>1516063</th>\n",
       "      <td>A-4239406</td>\n",
       "      <td>2</td>\n",
       "      <td>2019-08-23 18:52:06</td>\n",
       "      <td>2019-08-23 19:21:31</td>\n",
       "      <td>34.13393</td>\n",
       "      <td>-117.23092</td>\n",
       "      <td>34.13736</td>\n",
       "      <td>-117.23934</td>\n",
       "      <td>0.537</td>\n",
       "      <td>At Highland Ave/Arden Ave - Accident.</td>\n",
       "      <td>...</td>\n",
       "      <td>False</td>\n",
       "      <td>False</td>\n",
       "      <td>False</td>\n",
       "      <td>False</td>\n",
       "      <td>False</td>\n",
       "      <td>False</td>\n",
       "      <td>Day</td>\n",
       "      <td>Day</td>\n",
       "      <td>Day</td>\n",
       "      <td>Day</td>\n",
       "    </tr>\n",
       "  </tbody>\n",
       "</table>\n",
       "<p>1516064 rows × 47 columns</p>\n",
       "</div>"
      ],
      "text/plain": [
       "                ID  Severity           Start_Time             End_Time  \\\n",
       "0        A-2716600         3  2016-02-08 00:37:08  2016-02-08 06:37:08   \n",
       "1        A-2716601         2  2016-02-08 05:56:20  2016-02-08 11:56:20   \n",
       "2        A-2716602         2  2016-02-08 06:15:39  2016-02-08 12:15:39   \n",
       "3        A-2716603         2  2016-02-08 06:15:39  2016-02-08 12:15:39   \n",
       "4        A-2716604         2  2016-02-08 06:51:45  2016-02-08 12:51:45   \n",
       "...            ...       ...                  ...                  ...   \n",
       "1516059  A-4239402         2  2019-08-23 18:03:25  2019-08-23 18:32:01   \n",
       "1516060  A-4239403         2  2019-08-23 19:11:30  2019-08-23 19:38:23   \n",
       "1516061  A-4239404         2  2019-08-23 19:00:21  2019-08-23 19:28:49   \n",
       "1516062  A-4239405         2  2019-08-23 19:00:21  2019-08-23 19:29:42   \n",
       "1516063  A-4239406         2  2019-08-23 18:52:06  2019-08-23 19:21:31   \n",
       "\n",
       "         Start_Lat  Start_Lng   End_Lat    End_Lng  Distance(mi)  \\\n",
       "0         40.10891  -83.09286  40.11206  -83.03187         3.230   \n",
       "1         39.86542  -84.06280  39.86501  -84.04873         0.747   \n",
       "2         39.10266  -84.52468  39.10209  -84.52396         0.055   \n",
       "3         39.10148  -84.52341  39.09841  -84.52241         0.219   \n",
       "4         41.06213  -81.53784  41.06217  -81.53547         0.123   \n",
       "...            ...        ...       ...        ...           ...   \n",
       "1516059   34.00248 -117.37936  33.99888 -117.37094         0.543   \n",
       "1516060   32.76696 -117.14806  32.76555 -117.15363         0.338   \n",
       "1516061   33.77545 -117.84779  33.77740 -117.85727         0.561   \n",
       "1516062   33.99246 -118.40302  33.98311 -118.39565         0.772   \n",
       "1516063   34.13393 -117.23092  34.13736 -117.23934         0.537   \n",
       "\n",
       "                                               Description  ...  Roundabout  \\\n",
       "0        Between Sawmill Rd/Exit 20 and OH-315/Olentang...  ...       False   \n",
       "1                       At OH-4/OH-235/Exit 41 - Accident.  ...       False   \n",
       "2                         At I-71/US-50/Exit 1 - Accident.  ...       False   \n",
       "3                         At I-71/US-50/Exit 1 - Accident.  ...       False   \n",
       "4                          At Dart Ave/Exit 21 - Accident.  ...       False   \n",
       "...                                                    ...  ...         ...   \n",
       "1516059                           At Market St - Accident.  ...       False   \n",
       "1516060    At Camino Del Rio/Mission Center Rd - Accident.  ...       False   \n",
       "1516061  At Glassell St/Grand Ave - Accident. in the ri...  ...       False   \n",
       "1516062     At CA-90/Marina Fwy/Jefferson Blvd - Accident.  ...       False   \n",
       "1516063              At Highland Ave/Arden Ave - Accident.  ...       False   \n",
       "\n",
       "        Station   Stop Traffic_Calming Traffic_Signal Turning_Loop  \\\n",
       "0         False  False           False          False        False   \n",
       "1         False  False           False          False        False   \n",
       "2         False  False           False          False        False   \n",
       "3         False  False           False          False        False   \n",
       "4         False  False           False          False        False   \n",
       "...         ...    ...             ...            ...          ...   \n",
       "1516059   False  False           False          False        False   \n",
       "1516060   False  False           False          False        False   \n",
       "1516061   False  False           False          False        False   \n",
       "1516062   False  False           False          False        False   \n",
       "1516063   False  False           False          False        False   \n",
       "\n",
       "        Sunrise_Sunset Civil_Twilight Nautical_Twilight Astronomical_Twilight  \n",
       "0                Night          Night             Night                 Night  \n",
       "1                Night          Night             Night                 Night  \n",
       "2                Night          Night             Night                   Day  \n",
       "3                Night          Night             Night                   Day  \n",
       "4                Night          Night               Day                   Day  \n",
       "...                ...            ...               ...                   ...  \n",
       "1516059            Day            Day               Day                   Day  \n",
       "1516060            Day            Day               Day                   Day  \n",
       "1516061            Day            Day               Day                   Day  \n",
       "1516062            Day            Day               Day                   Day  \n",
       "1516063            Day            Day               Day                   Day  \n",
       "\n",
       "[1516064 rows x 47 columns]"
      ]
     },
     "execution_count": 5,
     "metadata": {},
     "output_type": "execute_result"
    }
   ],
   "source": [
    "df"
   ]
  },
  {
   "cell_type": "code",
   "execution_count": 6,
   "id": "a56ae87f",
   "metadata": {
    "execution": {
     "iopub.execute_input": "2021-11-17T21:19:54.469936Z",
     "iopub.status.busy": "2021-11-17T21:19:54.469306Z",
     "iopub.status.idle": "2021-11-17T21:19:57.851803Z",
     "shell.execute_reply": "2021-11-17T21:19:57.852663Z",
     "shell.execute_reply.started": "2021-11-16T03:37:33.342837Z"
    },
    "papermill": {
     "duration": 3.422191,
     "end_time": "2021-11-17T21:19:57.852893",
     "exception": false,
     "start_time": "2021-11-17T21:19:54.430702",
     "status": "completed"
    },
    "tags": []
   },
   "outputs": [
    {
     "name": "stdout",
     "output_type": "stream",
     "text": [
      "<class 'pandas.core.frame.DataFrame'>\n",
      "RangeIndex: 1516064 entries, 0 to 1516063\n",
      "Data columns (total 47 columns):\n",
      " #   Column                 Non-Null Count    Dtype  \n",
      "---  ------                 --------------    -----  \n",
      " 0   ID                     1516064 non-null  object \n",
      " 1   Severity               1516064 non-null  int64  \n",
      " 2   Start_Time             1516064 non-null  object \n",
      " 3   End_Time               1516064 non-null  object \n",
      " 4   Start_Lat              1516064 non-null  float64\n",
      " 5   Start_Lng              1516064 non-null  float64\n",
      " 6   End_Lat                1516064 non-null  float64\n",
      " 7   End_Lng                1516064 non-null  float64\n",
      " 8   Distance(mi)           1516064 non-null  float64\n",
      " 9   Description            1516064 non-null  object \n",
      " 10  Number                 469969 non-null   float64\n",
      " 11  Street                 1516064 non-null  object \n",
      " 12  Side                   1516064 non-null  object \n",
      " 13  City                   1515981 non-null  object \n",
      " 14  County                 1516064 non-null  object \n",
      " 15  State                  1516064 non-null  object \n",
      " 16  Zipcode                1515129 non-null  object \n",
      " 17  Country                1516064 non-null  object \n",
      " 18  Timezone               1513762 non-null  object \n",
      " 19  Airport_Code           1511816 non-null  object \n",
      " 20  Weather_Timestamp      1485800 non-null  object \n",
      " 21  Temperature(F)         1473031 non-null  float64\n",
      " 22  Wind_Chill(F)          1066748 non-null  float64\n",
      " 23  Humidity(%)            1470555 non-null  float64\n",
      " 24  Pressure(in)           1479790 non-null  float64\n",
      " 25  Visibility(mi)         1471853 non-null  float64\n",
      " 26  Wind_Direction         1474206 non-null  object \n",
      " 27  Wind_Speed(mph)        1387202 non-null  float64\n",
      " 28  Precipitation(in)      1005515 non-null  float64\n",
      " 29  Weather_Condition      1472057 non-null  object \n",
      " 30  Amenity                1516064 non-null  bool   \n",
      " 31  Bump                   1516064 non-null  bool   \n",
      " 32  Crossing               1516064 non-null  bool   \n",
      " 33  Give_Way               1516064 non-null  bool   \n",
      " 34  Junction               1516064 non-null  bool   \n",
      " 35  No_Exit                1516064 non-null  bool   \n",
      " 36  Railway                1516064 non-null  bool   \n",
      " 37  Roundabout             1516064 non-null  bool   \n",
      " 38  Station                1516064 non-null  bool   \n",
      " 39  Stop                   1516064 non-null  bool   \n",
      " 40  Traffic_Calming        1516064 non-null  bool   \n",
      " 41  Traffic_Signal         1516064 non-null  bool   \n",
      " 42  Turning_Loop           1516064 non-null  bool   \n",
      " 43  Sunrise_Sunset         1515981 non-null  object \n",
      " 44  Civil_Twilight         1515981 non-null  object \n",
      " 45  Nautical_Twilight      1515981 non-null  object \n",
      " 46  Astronomical_Twilight  1515981 non-null  object \n",
      "dtypes: bool(13), float64(13), int64(1), object(20)\n",
      "memory usage: 412.1+ MB\n"
     ]
    }
   ],
   "source": [
    "df.info()"
   ]
  },
  {
   "cell_type": "code",
   "execution_count": 7,
   "id": "b9dde1da",
   "metadata": {
    "execution": {
     "iopub.execute_input": "2021-11-17T21:19:57.988867Z",
     "iopub.status.busy": "2021-11-17T21:19:57.987954Z",
     "iopub.status.idle": "2021-11-17T21:19:58.735352Z",
     "shell.execute_reply": "2021-11-17T21:19:58.736081Z",
     "shell.execute_reply.started": "2021-11-16T03:41:14.584695Z"
    },
    "papermill": {
     "duration": 0.787397,
     "end_time": "2021-11-17T21:19:58.736275",
     "exception": false,
     "start_time": "2021-11-17T21:19:57.948878",
     "status": "completed"
    },
    "tags": []
   },
   "outputs": [
    {
     "data": {
      "text/html": [
       "<div>\n",
       "<style scoped>\n",
       "    .dataframe tbody tr th:only-of-type {\n",
       "        vertical-align: middle;\n",
       "    }\n",
       "\n",
       "    .dataframe tbody tr th {\n",
       "        vertical-align: top;\n",
       "    }\n",
       "\n",
       "    .dataframe thead th {\n",
       "        text-align: right;\n",
       "    }\n",
       "</style>\n",
       "<table border=\"1\" class=\"dataframe\">\n",
       "  <thead>\n",
       "    <tr style=\"text-align: right;\">\n",
       "      <th></th>\n",
       "      <th>Severity</th>\n",
       "      <th>Start_Lat</th>\n",
       "      <th>Start_Lng</th>\n",
       "      <th>End_Lat</th>\n",
       "      <th>End_Lng</th>\n",
       "      <th>Distance(mi)</th>\n",
       "      <th>Number</th>\n",
       "      <th>Temperature(F)</th>\n",
       "      <th>Wind_Chill(F)</th>\n",
       "      <th>Humidity(%)</th>\n",
       "      <th>Pressure(in)</th>\n",
       "      <th>Visibility(mi)</th>\n",
       "      <th>Wind_Speed(mph)</th>\n",
       "      <th>Precipitation(in)</th>\n",
       "    </tr>\n",
       "  </thead>\n",
       "  <tbody>\n",
       "    <tr>\n",
       "      <th>count</th>\n",
       "      <td>1.516064e+06</td>\n",
       "      <td>1.516064e+06</td>\n",
       "      <td>1.516064e+06</td>\n",
       "      <td>1.516064e+06</td>\n",
       "      <td>1.516064e+06</td>\n",
       "      <td>1.516064e+06</td>\n",
       "      <td>4.699690e+05</td>\n",
       "      <td>1.473031e+06</td>\n",
       "      <td>1.066748e+06</td>\n",
       "      <td>1.470555e+06</td>\n",
       "      <td>1.479790e+06</td>\n",
       "      <td>1.471853e+06</td>\n",
       "      <td>1.387202e+06</td>\n",
       "      <td>1.005515e+06</td>\n",
       "    </tr>\n",
       "    <tr>\n",
       "      <th>mean</th>\n",
       "      <td>2.238630e+00</td>\n",
       "      <td>3.690056e+01</td>\n",
       "      <td>-9.859919e+01</td>\n",
       "      <td>3.690061e+01</td>\n",
       "      <td>-9.859901e+01</td>\n",
       "      <td>5.872617e-01</td>\n",
       "      <td>8.907533e+03</td>\n",
       "      <td>5.958460e+01</td>\n",
       "      <td>5.510976e+01</td>\n",
       "      <td>6.465960e+01</td>\n",
       "      <td>2.955495e+01</td>\n",
       "      <td>9.131755e+00</td>\n",
       "      <td>7.630812e+00</td>\n",
       "      <td>8.477855e-03</td>\n",
       "    </tr>\n",
       "    <tr>\n",
       "      <th>std</th>\n",
       "      <td>6.081481e-01</td>\n",
       "      <td>5.165653e+00</td>\n",
       "      <td>1.849602e+01</td>\n",
       "      <td>5.165629e+00</td>\n",
       "      <td>1.849590e+01</td>\n",
       "      <td>1.632659e+00</td>\n",
       "      <td>2.242190e+04</td>\n",
       "      <td>1.827316e+01</td>\n",
       "      <td>2.112735e+01</td>\n",
       "      <td>2.325986e+01</td>\n",
       "      <td>1.016756e+00</td>\n",
       "      <td>2.889112e+00</td>\n",
       "      <td>5.637364e+00</td>\n",
       "      <td>1.293168e-01</td>\n",
       "    </tr>\n",
       "    <tr>\n",
       "      <th>min</th>\n",
       "      <td>1.000000e+00</td>\n",
       "      <td>2.457022e+01</td>\n",
       "      <td>-1.244976e+02</td>\n",
       "      <td>2.457011e+01</td>\n",
       "      <td>-1.244978e+02</td>\n",
       "      <td>0.000000e+00</td>\n",
       "      <td>0.000000e+00</td>\n",
       "      <td>-8.900000e+01</td>\n",
       "      <td>-8.900000e+01</td>\n",
       "      <td>1.000000e+00</td>\n",
       "      <td>0.000000e+00</td>\n",
       "      <td>0.000000e+00</td>\n",
       "      <td>0.000000e+00</td>\n",
       "      <td>0.000000e+00</td>\n",
       "    </tr>\n",
       "    <tr>\n",
       "      <th>25%</th>\n",
       "      <td>2.000000e+00</td>\n",
       "      <td>3.385422e+01</td>\n",
       "      <td>-1.182076e+02</td>\n",
       "      <td>3.385420e+01</td>\n",
       "      <td>-1.182077e+02</td>\n",
       "      <td>0.000000e+00</td>\n",
       "      <td>1.212000e+03</td>\n",
       "      <td>4.700000e+01</td>\n",
       "      <td>4.080000e+01</td>\n",
       "      <td>4.800000e+01</td>\n",
       "      <td>2.944000e+01</td>\n",
       "      <td>1.000000e+01</td>\n",
       "      <td>4.600000e+00</td>\n",
       "      <td>0.000000e+00</td>\n",
       "    </tr>\n",
       "    <tr>\n",
       "      <th>50%</th>\n",
       "      <td>2.000000e+00</td>\n",
       "      <td>3.735113e+01</td>\n",
       "      <td>-9.438100e+01</td>\n",
       "      <td>3.735134e+01</td>\n",
       "      <td>-9.437987e+01</td>\n",
       "      <td>1.780000e-01</td>\n",
       "      <td>4.000000e+03</td>\n",
       "      <td>6.100000e+01</td>\n",
       "      <td>5.700000e+01</td>\n",
       "      <td>6.800000e+01</td>\n",
       "      <td>2.988000e+01</td>\n",
       "      <td>1.000000e+01</td>\n",
       "      <td>7.000000e+00</td>\n",
       "      <td>0.000000e+00</td>\n",
       "    </tr>\n",
       "    <tr>\n",
       "      <th>75%</th>\n",
       "      <td>2.000000e+00</td>\n",
       "      <td>4.072593e+01</td>\n",
       "      <td>-8.087469e+01</td>\n",
       "      <td>4.072593e+01</td>\n",
       "      <td>-8.087449e+01</td>\n",
       "      <td>5.940000e-01</td>\n",
       "      <td>1.010000e+04</td>\n",
       "      <td>7.300000e+01</td>\n",
       "      <td>7.100000e+01</td>\n",
       "      <td>8.400000e+01</td>\n",
       "      <td>3.004000e+01</td>\n",
       "      <td>1.000000e+01</td>\n",
       "      <td>1.040000e+01</td>\n",
       "      <td>0.000000e+00</td>\n",
       "    </tr>\n",
       "    <tr>\n",
       "      <th>max</th>\n",
       "      <td>4.000000e+00</td>\n",
       "      <td>4.900058e+01</td>\n",
       "      <td>-6.711317e+01</td>\n",
       "      <td>4.907500e+01</td>\n",
       "      <td>-6.710924e+01</td>\n",
       "      <td>1.551860e+02</td>\n",
       "      <td>9.999997e+06</td>\n",
       "      <td>1.706000e+02</td>\n",
       "      <td>1.130000e+02</td>\n",
       "      <td>1.000000e+02</td>\n",
       "      <td>5.804000e+01</td>\n",
       "      <td>1.400000e+02</td>\n",
       "      <td>9.840000e+02</td>\n",
       "      <td>2.400000e+01</td>\n",
       "    </tr>\n",
       "  </tbody>\n",
       "</table>\n",
       "</div>"
      ],
      "text/plain": [
       "           Severity     Start_Lat     Start_Lng       End_Lat       End_Lng  \\\n",
       "count  1.516064e+06  1.516064e+06  1.516064e+06  1.516064e+06  1.516064e+06   \n",
       "mean   2.238630e+00  3.690056e+01 -9.859919e+01  3.690061e+01 -9.859901e+01   \n",
       "std    6.081481e-01  5.165653e+00  1.849602e+01  5.165629e+00  1.849590e+01   \n",
       "min    1.000000e+00  2.457022e+01 -1.244976e+02  2.457011e+01 -1.244978e+02   \n",
       "25%    2.000000e+00  3.385422e+01 -1.182076e+02  3.385420e+01 -1.182077e+02   \n",
       "50%    2.000000e+00  3.735113e+01 -9.438100e+01  3.735134e+01 -9.437987e+01   \n",
       "75%    2.000000e+00  4.072593e+01 -8.087469e+01  4.072593e+01 -8.087449e+01   \n",
       "max    4.000000e+00  4.900058e+01 -6.711317e+01  4.907500e+01 -6.710924e+01   \n",
       "\n",
       "       Distance(mi)        Number  Temperature(F)  Wind_Chill(F)  \\\n",
       "count  1.516064e+06  4.699690e+05    1.473031e+06   1.066748e+06   \n",
       "mean   5.872617e-01  8.907533e+03    5.958460e+01   5.510976e+01   \n",
       "std    1.632659e+00  2.242190e+04    1.827316e+01   2.112735e+01   \n",
       "min    0.000000e+00  0.000000e+00   -8.900000e+01  -8.900000e+01   \n",
       "25%    0.000000e+00  1.212000e+03    4.700000e+01   4.080000e+01   \n",
       "50%    1.780000e-01  4.000000e+03    6.100000e+01   5.700000e+01   \n",
       "75%    5.940000e-01  1.010000e+04    7.300000e+01   7.100000e+01   \n",
       "max    1.551860e+02  9.999997e+06    1.706000e+02   1.130000e+02   \n",
       "\n",
       "        Humidity(%)  Pressure(in)  Visibility(mi)  Wind_Speed(mph)  \\\n",
       "count  1.470555e+06  1.479790e+06    1.471853e+06     1.387202e+06   \n",
       "mean   6.465960e+01  2.955495e+01    9.131755e+00     7.630812e+00   \n",
       "std    2.325986e+01  1.016756e+00    2.889112e+00     5.637364e+00   \n",
       "min    1.000000e+00  0.000000e+00    0.000000e+00     0.000000e+00   \n",
       "25%    4.800000e+01  2.944000e+01    1.000000e+01     4.600000e+00   \n",
       "50%    6.800000e+01  2.988000e+01    1.000000e+01     7.000000e+00   \n",
       "75%    8.400000e+01  3.004000e+01    1.000000e+01     1.040000e+01   \n",
       "max    1.000000e+02  5.804000e+01    1.400000e+02     9.840000e+02   \n",
       "\n",
       "       Precipitation(in)  \n",
       "count       1.005515e+06  \n",
       "mean        8.477855e-03  \n",
       "std         1.293168e-01  \n",
       "min         0.000000e+00  \n",
       "25%         0.000000e+00  \n",
       "50%         0.000000e+00  \n",
       "75%         0.000000e+00  \n",
       "max         2.400000e+01  "
      ]
     },
     "execution_count": 7,
     "metadata": {},
     "output_type": "execute_result"
    }
   ],
   "source": [
    "df.describe()"
   ]
  },
  {
   "cell_type": "code",
   "execution_count": 8,
   "id": "c3c73093",
   "metadata": {
    "execution": {
     "iopub.execute_input": "2021-11-17T21:19:58.814417Z",
     "iopub.status.busy": "2021-11-17T21:19:58.813841Z",
     "iopub.status.idle": "2021-11-17T21:19:58.879507Z",
     "shell.execute_reply": "2021-11-17T21:19:58.880008Z",
     "shell.execute_reply.started": "2021-11-16T03:59:52.126567Z"
    },
    "papermill": {
     "duration": 0.106883,
     "end_time": "2021-11-17T21:19:58.880188",
     "exception": false,
     "start_time": "2021-11-17T21:19:58.773305",
     "status": "completed"
    },
    "tags": []
   },
   "outputs": [
    {
     "data": {
      "text/plain": [
       "14"
      ]
     },
     "execution_count": 8,
     "metadata": {},
     "output_type": "execute_result"
    }
   ],
   "source": [
    "numerics = ['int16', 'int32', 'int64', 'float16', 'float32', 'float64']\n",
    "\n",
    "newdf = df.select_dtypes(include=numerics)\n",
    "len(newdf.columns)"
   ]
  },
  {
   "cell_type": "markdown",
   "id": "f2aca849",
   "metadata": {
    "papermill": {
     "duration": 0.037142,
     "end_time": "2021-11-17T21:19:58.955051",
     "exception": false,
     "start_time": "2021-11-17T21:19:58.917909",
     "status": "completed"
    },
    "tags": []
   },
   "source": [
    "**Percentage of missing values per column**"
   ]
  },
  {
   "cell_type": "code",
   "execution_count": 9,
   "id": "7c44f6f1",
   "metadata": {
    "execution": {
     "iopub.execute_input": "2021-11-17T21:19:59.033519Z",
     "iopub.status.busy": "2021-11-17T21:19:59.032917Z",
     "iopub.status.idle": "2021-11-17T21:20:02.366820Z",
     "shell.execute_reply": "2021-11-17T21:20:02.367295Z",
     "shell.execute_reply.started": "2021-11-16T04:07:17.487694Z"
    },
    "papermill": {
     "duration": 3.374476,
     "end_time": "2021-11-17T21:20:02.367476",
     "exception": false,
     "start_time": "2021-11-17T21:19:58.993000",
     "status": "completed"
    },
    "tags": []
   },
   "outputs": [
    {
     "data": {
      "text/plain": [
       "Number                   0.690007\n",
       "Precipitation(in)        0.336760\n",
       "Wind_Chill(F)            0.296370\n",
       "Wind_Speed(mph)          0.084998\n",
       "Humidity(%)              0.030018\n",
       "Visibility(mi)           0.029162\n",
       "Weather_Condition        0.029027\n",
       "Temperature(F)           0.028385\n",
       "Wind_Direction           0.027610\n",
       "Pressure(in)             0.023926\n",
       "Weather_Timestamp        0.019962\n",
       "Airport_Code             0.002802\n",
       "Timezone                 0.001518\n",
       "Zipcode                  0.000617\n",
       "Sunrise_Sunset           0.000055\n",
       "Civil_Twilight           0.000055\n",
       "Nautical_Twilight        0.000055\n",
       "Astronomical_Twilight    0.000055\n",
       "City                     0.000055\n",
       "Country                  0.000000\n",
       "Give_Way                 0.000000\n",
       "Start_Time               0.000000\n",
       "End_Time                 0.000000\n",
       "Start_Lat                0.000000\n",
       "Turning_Loop             0.000000\n",
       "Traffic_Signal           0.000000\n",
       "Traffic_Calming          0.000000\n",
       "Stop                     0.000000\n",
       "Station                  0.000000\n",
       "Roundabout               0.000000\n",
       "Railway                  0.000000\n",
       "No_Exit                  0.000000\n",
       "Junction                 0.000000\n",
       "Crossing                 0.000000\n",
       "State                    0.000000\n",
       "Bump                     0.000000\n",
       "Amenity                  0.000000\n",
       "Start_Lng                0.000000\n",
       "End_Lat                  0.000000\n",
       "End_Lng                  0.000000\n",
       "Distance(mi)             0.000000\n",
       "Description              0.000000\n",
       "Street                   0.000000\n",
       "Severity                 0.000000\n",
       "Side                     0.000000\n",
       "County                   0.000000\n",
       "ID                       0.000000\n",
       "dtype: float64"
      ]
     },
     "execution_count": 9,
     "metadata": {},
     "output_type": "execute_result"
    }
   ],
   "source": [
    "missing_percentages = df.isna().sum().sort_values(ascending = False)/ len(df)\n",
    "missing_percentages"
   ]
  },
  {
   "cell_type": "code",
   "execution_count": 10,
   "id": "7cc3c2d0",
   "metadata": {
    "execution": {
     "iopub.execute_input": "2021-11-17T21:20:02.442984Z",
     "iopub.status.busy": "2021-11-17T21:20:02.442371Z",
     "iopub.status.idle": "2021-11-17T21:20:02.815267Z",
     "shell.execute_reply": "2021-11-17T21:20:02.815941Z",
     "shell.execute_reply.started": "2021-11-16T04:12:21.148751Z"
    },
    "papermill": {
     "duration": 0.41207,
     "end_time": "2021-11-17T21:20:02.816126",
     "exception": false,
     "start_time": "2021-11-17T21:20:02.404056",
     "status": "completed"
    },
    "tags": []
   },
   "outputs": [
    {
     "data": {
      "text/plain": [
       "<AxesSubplot:>"
      ]
     },
     "execution_count": 10,
     "metadata": {},
     "output_type": "execute_result"
    },
    {
     "data": {
      "image/png": "[encoded data removed]",
      "text/plain": [
       "<Figure size 432x288 with 1 Axes>"
      ]
     },
     "metadata": {
      "needs_background": "light"
     },
     "output_type": "display_data"
    }
   ],
   "source": [
    "missing_percentages[missing_percentages != 0].plot(kind = 'barh')"
   ]
  },
  {
   "cell_type": "markdown",
   "id": "05c33b40",
   "metadata": {
    "papermill": {
     "duration": 0.038142,
     "end_time": "2021-11-17T21:20:02.892805",
     "exception": false,
     "start_time": "2021-11-17T21:20:02.854663",
     "status": "completed"
    },
    "tags": []
   },
   "source": [
    "**Remove columns that you dont want to use**"
   ]
  },
  {
   "cell_type": "code",
   "execution_count": null,
   "id": "de99567b",
   "metadata": {
    "papermill": {
     "duration": 0.037956,
     "end_time": "2021-11-17T21:20:02.970173",
     "exception": false,
     "start_time": "2021-11-17T21:20:02.932217",
     "status": "completed"
    },
    "tags": []
   },
   "outputs": [],
   "source": []
  },
  {
   "cell_type": "markdown",
   "id": "1ac394e9",
   "metadata": {
    "papermill": {
     "duration": 0.037737,
     "end_time": "2021-11-17T21:20:03.046809",
     "exception": false,
     "start_time": "2021-11-17T21:20:03.009072",
     "status": "completed"
    },
    "tags": []
   },
   "source": [
    "## Exploratory Analysis and Visualization\n",
    "\n",
    "Columns we'll analyze:\n",
    "1. City\n",
    "2. Start Time\n",
    "3. Start Lat, Start Lng\n",
    "4. Temperature\n",
    "5. Weather Condition"
   ]
  },
  {
   "cell_type": "code",
   "execution_count": 11,
   "id": "d7de042b",
   "metadata": {
    "execution": {
     "iopub.execute_input": "2021-11-17T21:20:03.125897Z",
     "iopub.status.busy": "2021-11-17T21:20:03.125356Z",
     "iopub.status.idle": "2021-11-17T21:20:03.130552Z",
     "shell.execute_reply": "2021-11-17T21:20:03.131089Z",
     "shell.execute_reply.started": "2021-11-16T04:15:28.13753Z"
    },
    "papermill": {
     "duration": 0.045811,
     "end_time": "2021-11-17T21:20:03.131272",
     "exception": false,
     "start_time": "2021-11-17T21:20:03.085461",
     "status": "completed"
    },
    "tags": []
   },
   "outputs": [
    {
     "data": {
      "text/plain": [
       "Index(['ID', 'Severity', 'Start_Time', 'End_Time', 'Start_Lat', 'Start_Lng',\n",
       "       'End_Lat', 'End_Lng', 'Distance(mi)', 'Description', 'Number', 'Street',\n",
       "       'Side', 'City', 'County', 'State', 'Zipcode', 'Country', 'Timezone',\n",
       "       'Airport_Code', 'Weather_Timestamp', 'Temperature(F)', 'Wind_Chill(F)',\n",
       "       'Humidity(%)', 'Pressure(in)', 'Visibility(mi)', 'Wind_Direction',\n",
       "       'Wind_Speed(mph)', 'Precipitation(in)', 'Weather_Condition', 'Amenity',\n",
       "       'Bump', 'Crossing', 'Give_Way', 'Junction', 'No_Exit', 'Railway',\n",
       "       'Roundabout', 'Station', 'Stop', 'Traffic_Calming', 'Traffic_Signal',\n",
       "       'Turning_Loop', 'Sunrise_Sunset', 'Civil_Twilight', 'Nautical_Twilight',\n",
       "       'Astronomical_Twilight'],\n",
       "      dtype='object')"
      ]
     },
     "execution_count": 11,
     "metadata": {},
     "output_type": "execute_result"
    }
   ],
   "source": [
    "df.columns"
   ]
  },
  {
   "cell_type": "code",
   "execution_count": 12,
   "id": "16f7f11c",
   "metadata": {
    "execution": {
     "iopub.execute_input": "2021-11-17T21:20:03.209028Z",
     "iopub.status.busy": "2021-11-17T21:20:03.208464Z",
     "iopub.status.idle": "2021-11-17T21:20:03.214352Z",
     "shell.execute_reply": "2021-11-17T21:20:03.214853Z",
     "shell.execute_reply.started": "2021-11-16T04:17:48.028086Z"
    },
    "papermill": {
     "duration": 0.046559,
     "end_time": "2021-11-17T21:20:03.214987",
     "exception": false,
     "start_time": "2021-11-17T21:20:03.168428",
     "status": "completed"
    },
    "tags": []
   },
   "outputs": [
    {
     "data": {
      "text/plain": [
       "0               Dublin\n",
       "1               Dayton\n",
       "2           Cincinnati\n",
       "3           Cincinnati\n",
       "4                Akron\n",
       "              ...     \n",
       "1516059      Riverside\n",
       "1516060      San Diego\n",
       "1516061         Orange\n",
       "1516062    Culver City\n",
       "1516063       Highland\n",
       "Name: City, Length: 1516064, dtype: object"
      ]
     },
     "execution_count": 12,
     "metadata": {},
     "output_type": "execute_result"
    }
   ],
   "source": [
    "df.City"
   ]
  },
  {
   "cell_type": "code",
   "execution_count": 13,
   "id": "bb891b27",
   "metadata": {
    "execution": {
     "iopub.execute_input": "2021-11-17T21:20:03.297060Z",
     "iopub.status.busy": "2021-11-17T21:20:03.296451Z",
     "iopub.status.idle": "2021-11-17T21:20:03.493817Z",
     "shell.execute_reply": "2021-11-17T21:20:03.493374Z",
     "shell.execute_reply.started": "2021-11-16T04:18:36.007283Z"
    },
    "papermill": {
     "duration": 0.238972,
     "end_time": "2021-11-17T21:20:03.493955",
     "exception": false,
     "start_time": "2021-11-17T21:20:03.254983",
     "status": "completed"
    },
    "tags": []
   },
   "outputs": [
    {
     "data": {
      "text/plain": [
       "10658"
      ]
     },
     "execution_count": 13,
     "metadata": {},
     "output_type": "execute_result"
    }
   ],
   "source": [
    "cities = df.City.unique()\n",
    "len(cities)"
   ]
  },
  {
   "cell_type": "code",
   "execution_count": 14,
   "id": "961db5d2",
   "metadata": {
    "execution": {
     "iopub.execute_input": "2021-11-17T21:20:03.834120Z",
     "iopub.status.busy": "2021-11-17T21:20:03.833452Z",
     "iopub.status.idle": "2021-11-17T21:20:03.841460Z",
     "shell.execute_reply": "2021-11-17T21:20:03.842055Z",
     "shell.execute_reply.started": "2021-11-16T04:19:19.374499Z"
    },
    "papermill": {
     "duration": 0.309623,
     "end_time": "2021-11-17T21:20:03.842238",
     "exception": false,
     "start_time": "2021-11-17T21:20:03.532615",
     "status": "completed"
    },
    "tags": []
   },
   "outputs": [
    {
     "data": {
      "text/plain": [
       "Los Angeles                     39984\n",
       "Miami                           36233\n",
       "Charlotte                       22203\n",
       "Houston                         20843\n",
       "Dallas                          19497\n",
       "                                ...  \n",
       "Manzanita                           1\n",
       "West Brooklyn                       1\n",
       "Garfield Heights                    1\n",
       "Belding                             1\n",
       "American Fork-Pleasant Grove        1\n",
       "Name: City, Length: 10657, dtype: int64"
      ]
     },
     "execution_count": 14,
     "metadata": {},
     "output_type": "execute_result"
    }
   ],
   "source": [
    "cities_by_accident = df.City.value_counts()\n",
    "cities_by_accident"
   ]
  },
  {
   "cell_type": "code",
   "execution_count": 15,
   "id": "3c58af9f",
   "metadata": {
    "execution": {
     "iopub.execute_input": "2021-11-17T21:20:03.924357Z",
     "iopub.status.busy": "2021-11-17T21:20:03.923774Z",
     "iopub.status.idle": "2021-11-17T21:20:03.929820Z",
     "shell.execute_reply": "2021-11-17T21:20:03.930383Z",
     "shell.execute_reply.started": "2021-11-16T04:21:07.132924Z"
    },
    "papermill": {
     "duration": 0.048048,
     "end_time": "2021-11-17T21:20:03.930546",
     "exception": false,
     "start_time": "2021-11-17T21:20:03.882498",
     "status": "completed"
    },
    "tags": []
   },
   "outputs": [
    {
     "data": {
      "text/plain": [
       "Los Angeles     39984\n",
       "Miami           36233\n",
       "Charlotte       22203\n",
       "Houston         20843\n",
       "Dallas          19497\n",
       "Sacramento      18431\n",
       "Orlando         16169\n",
       "Portland        14805\n",
       "San Diego       14090\n",
       "Minneapolis     12653\n",
       "Atlanta         11854\n",
       "Chicago         11507\n",
       "Saint Paul      10084\n",
       "Phoenix          9934\n",
       "Raleigh          9516\n",
       "San Jose         9362\n",
       "Richmond         8472\n",
       "Nashville        8381\n",
       "Riverside        8201\n",
       "Jacksonville     7815\n",
       "Name: City, dtype: int64"
      ]
     },
     "execution_count": 15,
     "metadata": {},
     "output_type": "execute_result"
    }
   ],
   "source": [
    "cities_by_accident[:20]"
   ]
  },
  {
   "cell_type": "code",
   "execution_count": 16,
   "id": "6149afa8",
   "metadata": {
    "execution": {
     "iopub.execute_input": "2021-11-17T21:20:04.013721Z",
     "iopub.status.busy": "2021-11-17T21:20:04.013128Z",
     "iopub.status.idle": "2021-11-17T21:20:04.341718Z",
     "shell.execute_reply": "2021-11-17T21:20:04.342330Z",
     "shell.execute_reply.started": "2021-11-16T04:21:49.947499Z"
    },
    "papermill": {
     "duration": 0.371895,
     "end_time": "2021-11-17T21:20:04.342501",
     "exception": false,
     "start_time": "2021-11-17T21:20:03.970606",
     "status": "completed"
    },
    "tags": []
   },
   "outputs": [
    {
     "data": {
      "text/plain": [
       "<AxesSubplot:>"
      ]
     },
     "execution_count": 16,
     "metadata": {},
     "output_type": "execute_result"
    },
    {
     "data": {
      "image/png": "[encoded data removed]",
      "text/plain": [
       "<Figure size 432x288 with 1 Axes>"
      ]
     },
     "metadata": {
      "needs_background": "light"
     },
     "output_type": "display_data"
    }
   ],
   "source": [
    "cities_by_accident[:20].plot(kind = 'barh')"
   ]
  },
  {
   "cell_type": "code",
   "execution_count": 17,
   "id": "1c389342",
   "metadata": {
    "execution": {
     "iopub.execute_input": "2021-11-17T21:20:04.427511Z",
     "iopub.status.busy": "2021-11-17T21:20:04.426899Z",
     "iopub.status.idle": "2021-11-17T21:20:05.423295Z",
     "shell.execute_reply": "2021-11-17T21:20:05.422711Z",
     "shell.execute_reply.started": "2021-11-16T04:28:05.030029Z"
    },
    "papermill": {
     "duration": 1.039406,
     "end_time": "2021-11-17T21:20:05.423448",
     "exception": false,
     "start_time": "2021-11-17T21:20:04.384042",
     "status": "completed"
    },
    "tags": []
   },
   "outputs": [],
   "source": [
    "import seaborn as sns\n",
    "sns.set_style(\"darkgrid\")"
   ]
  },
  {
   "cell_type": "code",
   "execution_count": 18,
   "id": "3c12ceb1",
   "metadata": {
    "execution": {
     "iopub.execute_input": "2021-11-17T21:20:05.520534Z",
     "iopub.status.busy": "2021-11-17T21:20:05.519873Z",
     "iopub.status.idle": "2021-11-17T21:20:06.766367Z",
     "shell.execute_reply": "2021-11-17T21:20:06.765769Z",
     "shell.execute_reply.started": "2021-11-16T04:31:36.283412Z"
    },
    "papermill": {
     "duration": 1.300337,
     "end_time": "2021-11-17T21:20:06.766511",
     "exception": false,
     "start_time": "2021-11-17T21:20:05.466174",
     "status": "completed"
    },
    "tags": []
   },
   "outputs": [
    {
     "data": {
      "text/plain": [
       "<AxesSubplot:xlabel='City', ylabel='Count'>"
      ]
     },
     "execution_count": 18,
     "metadata": {},
     "output_type": "execute_result"
    },
    {
     "data": {
      "image/png": "[encoded data removed]",
      "text/plain": [
       "<Figure size 432x288 with 1 Axes>"
      ]
     },
     "metadata": {},
     "output_type": "display_data"
    }
   ],
   "source": [
    "sns.histplot(cities_by_accident, log_scale=True)"
   ]
  },
  {
   "cell_type": "code",
   "execution_count": 19,
   "id": "7e21eb11",
   "metadata": {
    "execution": {
     "iopub.execute_input": "2021-11-17T21:20:06.860580Z",
     "iopub.status.busy": "2021-11-17T21:20:06.859885Z",
     "iopub.status.idle": "2021-11-17T21:20:06.863238Z",
     "shell.execute_reply": "2021-11-17T21:20:06.863677Z",
     "shell.execute_reply.started": "2021-11-16T04:31:54.273945Z"
    },
    "papermill": {
     "duration": 0.055053,
     "end_time": "2021-11-17T21:20:06.863846",
     "exception": false,
     "start_time": "2021-11-17T21:20:06.808793",
     "status": "completed"
    },
    "tags": []
   },
   "outputs": [
    {
     "data": {
      "text/plain": [
       "South Paris                     1\n",
       "Aberdeen Proving Ground         1\n",
       "Rebecca                         1\n",
       "Hiltons                         1\n",
       "Jeanerette                      1\n",
       "                               ..\n",
       "Manzanita                       1\n",
       "West Brooklyn                   1\n",
       "Garfield Heights                1\n",
       "Belding                         1\n",
       "American Fork-Pleasant Grove    1\n",
       "Name: City, Length: 1167, dtype: int64"
      ]
     },
     "execution_count": 19,
     "metadata": {},
     "output_type": "execute_result"
    }
   ],
   "source": [
    "cities_by_accident[cities_by_accident == 1]"
   ]
  },
  {
   "cell_type": "markdown",
   "id": "6c21ac7a",
   "metadata": {
    "papermill": {
     "duration": 0.041749,
     "end_time": "2021-11-17T21:20:06.948918",
     "exception": false,
     "start_time": "2021-11-17T21:20:06.907169",
     "status": "completed"
    },
    "tags": []
   },
   "source": [
    "## Start Time"
   ]
  },
  {
   "cell_type": "code",
   "execution_count": 20,
   "id": "a0976cea",
   "metadata": {
    "execution": {
     "iopub.execute_input": "2021-11-17T21:20:07.040014Z",
     "iopub.status.busy": "2021-11-17T21:20:07.039369Z",
     "iopub.status.idle": "2021-11-17T21:20:07.047293Z",
     "shell.execute_reply": "2021-11-17T21:20:07.047786Z",
     "shell.execute_reply.started": "2021-11-16T04:32:20.703933Z"
    },
    "papermill": {
     "duration": 0.054746,
     "end_time": "2021-11-17T21:20:07.047962",
     "exception": false,
     "start_time": "2021-11-17T21:20:06.993216",
     "status": "completed"
    },
    "tags": []
   },
   "outputs": [
    {
     "data": {
      "text/plain": [
       "0          2016-02-08 00:37:08\n",
       "1          2016-02-08 05:56:20\n",
       "2          2016-02-08 06:15:39\n",
       "3          2016-02-08 06:15:39\n",
       "4          2016-02-08 06:51:45\n",
       "                  ...         \n",
       "1516059    2019-08-23 18:03:25\n",
       "1516060    2019-08-23 19:11:30\n",
       "1516061    2019-08-23 19:00:21\n",
       "1516062    2019-08-23 19:00:21\n",
       "1516063    2019-08-23 18:52:06\n",
       "Name: Start_Time, Length: 1516064, dtype: object"
      ]
     },
     "execution_count": 20,
     "metadata": {},
     "output_type": "execute_result"
    }
   ],
   "source": [
    "df.Start_Time"
   ]
  },
  {
   "cell_type": "code",
   "execution_count": 21,
   "id": "ba084c03",
   "metadata": {
    "execution": {
     "iopub.execute_input": "2021-11-17T21:20:07.138723Z",
     "iopub.status.busy": "2021-11-17T21:20:07.137754Z",
     "iopub.status.idle": "2021-11-17T21:20:08.015838Z",
     "shell.execute_reply": "2021-11-17T21:20:08.015294Z",
     "shell.execute_reply.started": "2021-11-16T04:37:32.507505Z"
    },
    "papermill": {
     "duration": 0.924115,
     "end_time": "2021-11-17T21:20:08.015986",
     "exception": false,
     "start_time": "2021-11-17T21:20:07.091871",
     "status": "completed"
    },
    "tags": []
   },
   "outputs": [],
   "source": [
    "df.Start_Time = pd.to_datetime(df.Start_Time)"
   ]
  },
  {
   "cell_type": "code",
   "execution_count": 22,
   "id": "20114a57",
   "metadata": {
    "execution": {
     "iopub.execute_input": "2021-11-17T21:20:08.108759Z",
     "iopub.status.busy": "2021-11-17T21:20:08.108138Z",
     "iopub.status.idle": "2021-11-17T21:20:08.557757Z",
     "shell.execute_reply": "2021-11-17T21:20:08.557159Z",
     "shell.execute_reply.started": "2021-11-16T04:38:04.54492Z"
    },
    "papermill": {
     "duration": 0.497729,
     "end_time": "2021-11-17T21:20:08.557903",
     "exception": false,
     "start_time": "2021-11-17T21:20:08.060174",
     "status": "completed"
    },
    "tags": []
   },
   "outputs": [
    {
     "name": "stderr",
     "output_type": "stream",
     "text": [
      "/opt/conda/lib/python3.7/site-packages/seaborn/distributions.py:2619: FutureWarning: `distplot` is a deprecated function and will be removed in a future version. Please adapt your code to use either `displot` (a figure-level function with similar flexibility) or `histplot` (an axes-level function for histograms).\n",
      "  warnings.warn(msg, FutureWarning)\n"
     ]
    },
    {
     "data": {
      "text/plain": [
       "<AxesSubplot:xlabel='Start_Time'>"
      ]
     },
     "execution_count": 22,
     "metadata": {},
     "output_type": "execute_result"
    },
    {
     "data": {
      "image/png": "[encoded data removed]",
      "text/plain": [
       "<Figure size 432x288 with 1 Axes>"
      ]
     },
     "metadata": {},
     "output_type": "display_data"
    }
   ],
   "source": [
    "sns.distplot(df.Start_Time.dt.hour, bins=24, kde=False, norm_hist=True)"
   ]
  },
  {
   "cell_type": "markdown",
   "id": "f16a065f",
   "metadata": {
    "papermill": {
     "duration": 0.05841,
     "end_time": "2021-11-17T21:20:08.663572",
     "exception": false,
     "start_time": "2021-11-17T21:20:08.605162",
     "status": "completed"
    },
    "tags": []
   },
   "source": [
    "* A high percentage of accidents occur between 6 am to 10 am (probably people in a hurry to get to work)\n",
    "* Next higest percentage is 3 pm to 6 pm."
   ]
  },
  {
   "cell_type": "code",
   "execution_count": 23,
   "id": "4cb04a40",
   "metadata": {
    "execution": {
     "iopub.execute_input": "2021-11-17T21:20:08.773161Z",
     "iopub.status.busy": "2021-11-17T21:20:08.772154Z",
     "iopub.status.idle": "2021-11-17T21:20:09.206978Z",
     "shell.execute_reply": "2021-11-17T21:20:09.207455Z",
     "shell.execute_reply.started": "2021-11-16T04:44:08.610888Z"
    },
    "papermill": {
     "duration": 0.486314,
     "end_time": "2021-11-17T21:20:09.207631",
     "exception": false,
     "start_time": "2021-11-17T21:20:08.721317",
     "status": "completed"
    },
    "tags": []
   },
   "outputs": [
    {
     "data": {
      "text/plain": [
       "<AxesSubplot:xlabel='Start_Time'>"
      ]
     },
     "execution_count": 23,
     "metadata": {},
     "output_type": "execute_result"
    },
    {
     "data": {
      "image/png": "[encoded data removed]",
      "text/plain": [
       "<Figure size 432x288 with 1 Axes>"
      ]
     },
     "metadata": {},
     "output_type": "display_data"
    }
   ],
   "source": [
    "sns.distplot(df.Start_Time.dt.dayofweek, bins=7, kde=False, norm_hist=True)"
   ]
  },
  {
   "cell_type": "markdown",
   "id": "e2c8a1ab",
   "metadata": {
    "papermill": {
     "duration": 0.045094,
     "end_time": "2021-11-17T21:20:09.296574",
     "exception": false,
     "start_time": "2021-11-17T21:20:09.251480",
     "status": "completed"
    },
    "tags": []
   },
   "source": [
    "Is the distribution of accidents by hour the same on weekends as on weekdays?"
   ]
  },
  {
   "cell_type": "code",
   "execution_count": 24,
   "id": "efaef5f7",
   "metadata": {
    "execution": {
     "iopub.execute_input": "2021-11-17T21:20:09.389615Z",
     "iopub.status.busy": "2021-11-17T21:20:09.387633Z",
     "iopub.status.idle": "2021-11-17T21:20:09.861626Z",
     "shell.execute_reply": "2021-11-17T21:20:09.861076Z",
     "shell.execute_reply.started": "2021-11-16T04:44:29.022681Z"
    },
    "papermill": {
     "duration": 0.521446,
     "end_time": "2021-11-17T21:20:09.861784",
     "exception": false,
     "start_time": "2021-11-17T21:20:09.340338",
     "status": "completed"
    },
    "tags": []
   },
   "outputs": [
    {
     "data": {
      "text/plain": [
       "<AxesSubplot:xlabel='Start_Time'>"
      ]
     },
     "execution_count": 24,
     "metadata": {},
     "output_type": "execute_result"
    },
    {
     "data": {
      "image/png": "[encoded data removed]",
      "text/plain": [
       "<Figure size 432x288 with 1 Axes>"
      ]
     },
     "metadata": {},
     "output_type": "display_data"
    }
   ],
   "source": [
    "sundays_start_time = df.Start_Time[df.Start_Time.dt.dayofweek == 6]\n",
    "sns.distplot(sundays_start_time.dt.hour, bins=24, kde=False, norm_hist=True)"
   ]
  },
  {
   "cell_type": "code",
   "execution_count": 25,
   "id": "247ebb9d",
   "metadata": {
    "execution": {
     "iopub.execute_input": "2021-11-17T21:20:09.958304Z",
     "iopub.status.busy": "2021-11-17T21:20:09.957630Z",
     "iopub.status.idle": "2021-11-17T21:20:10.452989Z",
     "shell.execute_reply": "2021-11-17T21:20:10.452476Z",
     "shell.execute_reply.started": "2021-11-16T04:44:40.275628Z"
    },
    "papermill": {
     "duration": 0.544413,
     "end_time": "2021-11-17T21:20:10.453150",
     "exception": false,
     "start_time": "2021-11-17T21:20:09.908737",
     "status": "completed"
    },
    "tags": []
   },
   "outputs": [
    {
     "data": {
      "text/plain": [
       "<AxesSubplot:xlabel='Start_Time'>"
      ]
     },
     "execution_count": 25,
     "metadata": {},
     "output_type": "execute_result"
    },
    {
     "data": {
      "image/png": "[encoded data removed]",
      "text/plain": [
       "<Figure size 432x288 with 1 Axes>"
      ]
     },
     "metadata": {},
     "output_type": "display_data"
    }
   ],
   "source": [
    "monday_start_time = df.Start_Time[df.Start_Time.dt.dayofweek == 0]\n",
    "sns.distplot(monday_start_time.dt.hour, bins=24, kde=False, norm_hist=True)"
   ]
  },
  {
   "cell_type": "markdown",
   "id": "b312a9f7",
   "metadata": {
    "papermill": {
     "duration": 0.045755,
     "end_time": "2021-11-17T21:20:10.546433",
     "exception": false,
     "start_time": "2021-11-17T21:20:10.500678",
     "status": "completed"
    },
    "tags": []
   },
   "source": [
    "On Sundays, the peak occurs between 10 am and 3 pm, unlike weekdays"
   ]
  },
  {
   "cell_type": "markdown",
   "id": "822bb61f",
   "metadata": {
    "papermill": {
     "duration": 0.045207,
     "end_time": "2021-11-17T21:20:10.637635",
     "exception": false,
     "start_time": "2021-11-17T21:20:10.592428",
     "status": "completed"
    },
    "tags": []
   },
   "source": [
    "## Start Latitude & Longitude"
   ]
  },
  {
   "cell_type": "code",
   "execution_count": 26,
   "id": "d70f561a",
   "metadata": {
    "execution": {
     "iopub.execute_input": "2021-11-17T21:20:10.734351Z",
     "iopub.status.busy": "2021-11-17T21:20:10.733635Z",
     "iopub.status.idle": "2021-11-17T21:20:10.740605Z",
     "shell.execute_reply": "2021-11-17T21:20:10.740081Z",
     "shell.execute_reply.started": "2021-11-16T04:51:22.578151Z"
    },
    "papermill": {
     "duration": 0.057304,
     "end_time": "2021-11-17T21:20:10.740731",
     "exception": false,
     "start_time": "2021-11-17T21:20:10.683427",
     "status": "completed"
    },
    "tags": []
   },
   "outputs": [
    {
     "data": {
      "text/plain": [
       "0          40.10891\n",
       "1          39.86542\n",
       "2          39.10266\n",
       "3          39.10148\n",
       "4          41.06213\n",
       "             ...   \n",
       "1516059    34.00248\n",
       "1516060    32.76696\n",
       "1516061    33.77545\n",
       "1516062    33.99246\n",
       "1516063    34.13393\n",
       "Name: Start_Lat, Length: 1516064, dtype: float64"
      ]
     },
     "execution_count": 26,
     "metadata": {},
     "output_type": "execute_result"
    }
   ],
   "source": [
    "df.Start_Lat"
   ]
  },
  {
   "cell_type": "code",
   "execution_count": 27,
   "id": "11f7a5f8",
   "metadata": {
    "execution": {
     "iopub.execute_input": "2021-11-17T21:20:10.842627Z",
     "iopub.status.busy": "2021-11-17T21:20:10.841960Z",
     "iopub.status.idle": "2021-11-17T21:20:10.844711Z",
     "shell.execute_reply": "2021-11-17T21:20:10.845196Z",
     "shell.execute_reply.started": "2021-11-16T04:51:33.039415Z"
    },
    "papermill": {
     "duration": 0.056621,
     "end_time": "2021-11-17T21:20:10.845356",
     "exception": false,
     "start_time": "2021-11-17T21:20:10.788735",
     "status": "completed"
    },
    "tags": []
   },
   "outputs": [
    {
     "data": {
      "text/plain": [
       "0          -83.09286\n",
       "1          -84.06280\n",
       "2          -84.52468\n",
       "3          -84.52341\n",
       "4          -81.53784\n",
       "             ...    \n",
       "1516059   -117.37936\n",
       "1516060   -117.14806\n",
       "1516061   -117.84779\n",
       "1516062   -118.40302\n",
       "1516063   -117.23092\n",
       "Name: Start_Lng, Length: 1516064, dtype: float64"
      ]
     },
     "execution_count": 27,
     "metadata": {},
     "output_type": "execute_result"
    }
   ],
   "source": [
    "df.Start_Lng"
   ]
  },
  {
   "cell_type": "code",
   "execution_count": 28,
   "id": "d4e21af7",
   "metadata": {
    "execution": {
     "iopub.execute_input": "2021-11-17T21:20:10.943631Z",
     "iopub.status.busy": "2021-11-17T21:20:10.943000Z",
     "iopub.status.idle": "2021-11-17T21:20:11.380514Z",
     "shell.execute_reply": "2021-11-17T21:20:11.379208Z",
     "shell.execute_reply.started": "2021-11-16T04:54:46.626037Z"
    },
    "papermill": {
     "duration": 0.487962,
     "end_time": "2021-11-17T21:20:11.380656",
     "exception": false,
     "start_time": "2021-11-17T21:20:10.892694",
     "status": "completed"
    },
    "tags": []
   },
   "outputs": [],
   "source": [
    "sample_df = df.sample(int(0.1 * len(df)))"
   ]
  },
  {
   "cell_type": "code",
   "execution_count": 29,
   "id": "f5cd1e47",
   "metadata": {
    "execution": {
     "iopub.execute_input": "2021-11-17T21:20:11.483872Z",
     "iopub.status.busy": "2021-11-17T21:20:11.482685Z",
     "iopub.status.idle": "2021-11-17T21:20:17.113161Z",
     "shell.execute_reply": "2021-11-17T21:20:17.113655Z",
     "shell.execute_reply.started": "2021-11-16T04:54:57.211882Z"
    },
    "papermill": {
     "duration": 5.685307,
     "end_time": "2021-11-17T21:20:17.113831",
     "exception": false,
     "start_time": "2021-11-17T21:20:11.428524",
     "status": "completed"
    },
    "tags": []
   },
   "outputs": [
    {
     "data": {
      "text/plain": [
       "<AxesSubplot:xlabel='Start_Lng', ylabel='Start_Lat'>"
      ]
     },
     "execution_count": 29,
     "metadata": {},
     "output_type": "execute_result"
    },
    {
     "data": {
      "image/png": "[encoded data removed]",
      "text/plain": [
       "<Figure size 432x288 with 1 Axes>"
      ]
     },
     "metadata": {},
     "output_type": "display_data"
    }
   ],
   "source": [
    "sns.scatterplot(x=sample_df.Start_Lng, y=sample_df.Start_Lat, size=0.001)"
   ]
  },
  {
   "cell_type": "code",
   "execution_count": 30,
   "id": "4a13c9ed",
   "metadata": {
    "execution": {
     "iopub.execute_input": "2021-11-17T21:20:17.223865Z",
     "iopub.status.busy": "2021-11-17T21:20:17.223218Z",
     "iopub.status.idle": "2021-11-17T21:20:17.468009Z",
     "shell.execute_reply": "2021-11-17T21:20:17.467009Z",
     "shell.execute_reply.started": "2021-11-16T04:55:32.671837Z"
    },
    "papermill": {
     "duration": 0.302716,
     "end_time": "2021-11-17T21:20:17.468197",
     "exception": false,
     "start_time": "2021-11-17T21:20:17.165481",
     "status": "completed"
    },
    "tags": []
   },
   "outputs": [],
   "source": [
    "import folium"
   ]
  },
  {
   "cell_type": "code",
   "execution_count": 31,
   "id": "41e0af73",
   "metadata": {
    "execution": {
     "iopub.execute_input": "2021-11-17T21:20:17.577361Z",
     "iopub.status.busy": "2021-11-17T21:20:17.576771Z",
     "iopub.status.idle": "2021-11-17T21:20:17.580404Z",
     "shell.execute_reply": "2021-11-17T21:20:17.579838Z",
     "shell.execute_reply.started": "2021-11-16T04:55:48.685985Z"
    },
    "papermill": {
     "duration": 0.060272,
     "end_time": "2021-11-17T21:20:17.580526",
     "exception": false,
     "start_time": "2021-11-17T21:20:17.520254",
     "status": "completed"
    },
    "tags": []
   },
   "outputs": [
    {
     "data": {
      "text/plain": [
       "(40.10891, -83.09286)"
      ]
     },
     "execution_count": 31,
     "metadata": {},
     "output_type": "execute_result"
    }
   ],
   "source": [
    "lat, lon = df.Start_Lat[0], df.Start_Lng[0]\n",
    "lat, lon"
   ]
  },
  {
   "cell_type": "code",
   "execution_count": 32,
   "id": "e125afdb",
   "metadata": {
    "execution": {
     "iopub.execute_input": "2021-11-17T21:20:17.685952Z",
     "iopub.status.busy": "2021-11-17T21:20:17.685391Z",
     "iopub.status.idle": "2021-11-17T21:20:17.743931Z",
     "shell.execute_reply": "2021-11-17T21:20:17.744470Z",
     "shell.execute_reply.started": "2021-11-16T04:56:00.686875Z"
    },
    "papermill": {
     "duration": 0.11346,
     "end_time": "2021-11-17T21:20:17.744646",
     "exception": false,
     "start_time": "2021-11-17T21:20:17.631186",
     "status": "completed"
    },
    "tags": []
   },
   "outputs": [
    {
     "name": "stdout",
     "output_type": "stream",
     "text": [
      "485542     40.748801\n",
      "669951     39.697963\n",
      "957395     37.786670\n",
      "153658     37.632430\n",
      "1220264    33.876919\n",
      "             ...    \n",
      "728082     44.878320\n",
      "167756     38.019480\n",
      "1219362    41.835180\n",
      "1353350    32.663040\n",
      "1454751    33.631760\n",
      "Name: Start_Lat, Length: 100, dtype: float64\n",
      "485542     -74.212488\n",
      "669951     -84.218588\n",
      "957395    -122.390200\n",
      "153658    -122.437460\n",
      "1220264   -118.152450\n",
      "              ...    \n",
      "728082    -121.429370\n",
      "167756     -78.534200\n",
      "1219362    -72.306640\n",
      "1353350   -117.109380\n",
      "1454751    -84.395440\n",
      "Name: Start_Lng, Length: 100, dtype: float64\n"
     ]
    }
   ],
   "source": [
    "for x in df[['Start_Lat', 'Start_Lng']].sample(100).iteritems():\n",
    "    print(x[1])"
   ]
  },
  {
   "cell_type": "code",
   "execution_count": 33,
   "id": "b4aed484",
   "metadata": {
    "execution": {
     "iopub.execute_input": "2021-11-17T21:20:18.301323Z",
     "iopub.status.busy": "2021-11-17T21:20:18.300423Z",
     "iopub.status.idle": "2021-11-17T21:20:18.303679Z",
     "shell.execute_reply": "2021-11-17T21:20:18.304149Z",
     "shell.execute_reply.started": "2021-11-16T04:57:47.449726Z"
    },
    "papermill": {
     "duration": 0.506348,
     "end_time": "2021-11-17T21:20:18.304314",
     "exception": false,
     "start_time": "2021-11-17T21:20:17.797966",
     "status": "completed"
    },
    "tags": []
   },
   "outputs": [
    {
     "data": {
      "text/plain": [
       "<zip at 0x7fbd732068c0>"
      ]
     },
     "execution_count": 33,
     "metadata": {},
     "output_type": "execute_result"
    }
   ],
   "source": [
    "zip(list(df.Start_Lat), list(df.Start_Lng))"
   ]
  },
  {
   "cell_type": "code",
   "execution_count": 34,
   "id": "a1c01b98",
   "metadata": {
    "execution": {
     "iopub.execute_input": "2021-11-17T21:20:18.414616Z",
     "iopub.status.busy": "2021-11-17T21:20:18.413938Z",
     "iopub.status.idle": "2021-11-17T21:20:18.592370Z",
     "shell.execute_reply": "2021-11-17T21:20:18.591771Z",
     "shell.execute_reply.started": "2021-11-16T04:57:57.843638Z"
    },
    "papermill": {
     "duration": 0.235493,
     "end_time": "2021-11-17T21:20:18.592524",
     "exception": false,
     "start_time": "2021-11-17T21:20:18.357031",
     "status": "completed"
    },
    "tags": []
   },
   "outputs": [],
   "source": [
    "from folium.plugins import HeatMap"
   ]
  },
  {
   "cell_type": "code",
   "execution_count": 35,
   "id": "bc2631ba",
   "metadata": {
    "execution": {
     "iopub.execute_input": "2021-11-17T21:20:18.707032Z",
     "iopub.status.busy": "2021-11-17T21:20:18.706240Z",
     "iopub.status.idle": "2021-11-17T21:20:18.791590Z",
     "shell.execute_reply": "2021-11-17T21:20:18.790958Z",
     "shell.execute_reply.started": "2021-11-16T04:58:08.514644Z"
    },
    "papermill": {
     "duration": 0.144341,
     "end_time": "2021-11-17T21:20:18.791745",
     "exception": false,
     "start_time": "2021-11-17T21:20:18.647404",
     "status": "completed"
    },
    "tags": []
   },
   "outputs": [],
   "source": [
    "sample_df = df.sample(int(0.001 * len(df)))\n",
    "lat_lon_pairs = list(zip(list(sample_df.Start_Lat), list(sample_df.Start_Lng)))"
   ]
  },
  {
   "cell_type": "code",
   "execution_count": 36,
   "id": "c94c4e32",
   "metadata": {
    "execution": {
     "iopub.execute_input": "2021-11-17T21:20:18.907201Z",
     "iopub.status.busy": "2021-11-17T21:20:18.906489Z",
     "iopub.status.idle": "2021-11-17T21:20:18.951071Z",
     "shell.execute_reply": "2021-11-17T21:20:18.951614Z",
     "shell.execute_reply.started": "2021-11-16T04:58:16.721514Z"
    },
    "papermill": {
     "duration": 0.105449,
     "end_time": "2021-11-17T21:20:18.951794",
     "exception": false,
     "start_time": "2021-11-17T21:20:18.846345",
     "status": "completed"
    },
    "tags": []
   },
   "outputs": [
    {
     "data": {
      "text/html": [
       "<div style=\"width:100%;\"><div style=\"position:relative;width:100%;height:0;padding-bottom:60%;\"><span style=\"color:#565656\">Make this Notebook Trusted to load map: File -> Trust Notebook</span><iframe src=\"about:blank\" style=\"position:absolute;width:100%;height:100%;left:0;top:0;border:none !important;\" data-html=%3C%21DOCTYPE%20html%3E%0A%3Chead%3E%20%20%20%20%0A%20%20%20%20%3Cmeta%20http-equiv%3D%22content-type%22%20content%3D%22text/html%3B%20charset%3DUTF-8%22%20/%3E%0A%20%20%20%20%0A%20%20%20%20%20%20%20%20%3Cscript%3E%0A%20%20%20%20%20%20%20%20%20%20%20%20L_NO_TOUCH%20%3D%20false%3B%0A%20%20%20%20%20%20%20%20%20%20%20%20L_DISABLE_3D%20%3D%20false%3B%0A%20%20%20%20%20%20%20%20%3C/script%3E%0A%20%20%20%20%0A%20%20%20%20%3Cstyle%3Ehtml%2C%20body%20%7Bwidth%3A%20100%25%3Bheight%3A%20100%25%3Bmargin%3A%200%3Bpadding%3A%200%3B%7D%3C/style%3E%0A%20%20%20%20%3Cstyle%3E%23map%20%7Bposition%3Aabsolute%3Btop%3A0%3Bbottom%3A0%3Bright%3A0%3Bleft%3A0%3B%7D%3C/style%3E%0A%20%20%20%20%3Cscript%20src%3D%22https%3A//cdn.jsdelivr.net/npm/leaflet%401.6.0/dist/leaflet.js%22%3E%3C/script%3E%0A%20%20%20%20%3Cscript%20src%3D%22https%3A//code.jquery.com/jquery-1.12.4.min.js%22%3E%3C/script%3E%0A%20%20%20%20%3Cscript%20src%3D%22https%3A//maxcdn.bootstrapcdn.com/bootstrap/3.2.0/js/bootstrap.min.js%22%3E%3C/script%3E%0A%20%20%20%20%3Cscript%20src%3D%22https%3A//cdnjs.cloudflare.com/ajax/libs/Leaflet.awesome-markers/2.0.2/leaflet.awesome-markers.js%22%3E%3C/script%3E%0A%20%20%20%20%3Clink%20rel%3D%22stylesheet%22%20href%3D%22https%3A//cdn.jsdelivr.net/npm/leaflet%401.6.0/dist/leaflet.css%22/%3E%0A%20%20%20%20%3Clink%20rel%3D%22stylesheet%22%20href%3D%22https%3A//maxcdn.bootstrapcdn.com/bootstrap/3.2.0/css/bootstrap.min.css%22/%3E%0A%20%20%20%20%3Clink%20rel%3D%22stylesheet%22%20href%3D%22https%3A//maxcdn.bootstrapcdn.com/bootstrap/3.2.0/css/bootstrap-theme.min.css%22/%3E%0A%20%20%20%20%3Clink%20rel%3D%22stylesheet%22%20href%3D%22https%3A//maxcdn.bootstrapcdn.com/font-awesome/4.6.3/css/font-awesome.min.css%22/%3E%0A%20%20%20%20%3Clink%20rel%3D%22stylesheet%22%20href%3D%22https%3A//cdnjs.cloudflare.com/ajax/libs/Leaflet.awesome-markers/2.0.2/leaflet.awesome-markers.css%22/%3E%0A%20%20%20%20%3Clink%20rel%3D%22stylesheet%22%20href%3D%22https%3A//cdn.jsdelivr.net/gh/python-visualization/folium/folium/templates/leaflet.awesome.rotate.min.css%22/%3E%0A%20%20%20%20%0A%20%20%20%20%20%20%20%20%20%20%20%20%3Cmeta%20name%3D%22viewport%22%20content%3D%22width%3Ddevice-width%2C%0A%20%20%20%20%20%20%20%20%20%20%20%20%20%20%20%20initial-scale%3D1.0%2C%20maximum-scale%3D1.0%2C%20user-scalable%3Dno%22%20/%3E%0A%20%20%20%20%20%20%20%20%20%20%20%20%3Cstyle%3E%0A%20%20%20%20%20%20%20%20%20%20%20%20%20%20%20%20%23map_1b70606e1c95461e9420f8ffdb9b5e74%20%7B%0A%20%20%20%20%20%20%20%20%20%20%20%20%20%20%20%20%20%20%20%20position%3A%20relative%3B%0A%20%20%20%20%20%20%20%20%20%20%20%20%20%20%20%20%20%20%20%20width%3A%20100.0%25%3B%0A%20%20%20%20%20%20%20%20%20%20%20%20%20%20%20%20%20%20%20%20height%3A%20100.0%25%3B%0A%20%20%20%20%20%20%20%20%20%20%20%20%20%20%20%20%20%20%20%20left%3A%200.0%25%3B%0A%20%20%20%20%20%20%20%20%20%20%20%20%20%20%20%20%20%20%20%20top%3A%200.0%25%3B%0A%20%20%20%20%20%20%20%20%20%20%20%20%20%20%20%20%7D%0A%20%20%20%20%20%20%20%20%20%20%20%20%3C/style%3E%0A%20%20%20%20%20%20%20%20%0A%20%20%20%20%3Cscript%20src%3D%22https%3A//cdn.jsdelivr.net/gh/python-visualization/folium%40master/folium/templates/leaflet_heat.min.js%22%3E%3C/script%3E%0A%3C/head%3E%0A%3Cbody%3E%20%20%20%20%0A%20%20%20%20%0A%20%20%20%20%20%20%20%20%20%20%20%20%3Cdiv%20class%3D%22folium-map%22%20id%3D%22map_1b70606e1c95461e9420f8ffdb9b5e74%22%20%3E%3C/div%3E%0A%20%20%20%20%20%20%20%20%0A%3C/body%3E%0A%3Cscript%3E%20%20%20%20%0A%20%20%20%20%0A%20%20%20%20%20%20%20%20%20%20%20%20var%20map_1b70606e1c95461e9420f8ffdb9b5e74%20%3D%20L.map%28%0A%20%20%20%20%20%20%20%20%20%20%20%20%20%20%20%20%22map_1b70606e1c95461e9420f8ffdb9b5e74%22%2C%0A%20%20%20%20%20%20%20%20%20%20%20%20%20%20%20%20%7B%0A%20%20%20%20%20%20%20%20%20%20%20%20%20%20%20%20%20%20%20%20center%3A%20%5B0%2C%200%5D%2C%0A%20%20%20%20%20%20%20%20%20%20%20%20%20%20%20%20%20%20%20%20crs%3A%20L.CRS.EPSG3857%2C%0A%20%20%20%20%20%20%20%20%20%20%20%20%20%20%20%20%20%20%20%20zoom%3A%201%2C%0A%20%20%20%20%20%20%20%20%20%20%20%20%20%20%20%20%20%20%20%20zoomControl%3A%20true%2C%0A%20%20%20%20%20%20%20%20%20%20%20%20%20%20%20%20%20%20%20%20preferCanvas%3A%20false%2C%0A%20%20%20%20%20%20%20%20%20%20%20%20%20%20%20%20%7D%0A%20%20%20%20%20%20%20%20%20%20%20%20%29%3B%0A%0A%20%20%20%20%20%20%20%20%20%20%20%20%0A%0A%20%20%20%20%20%20%20%20%0A%20%20%20%20%0A%20%20%20%20%20%20%20%20%20%20%20%20var%20tile_layer_2d2d046e87674d00995c74231ad48018%20%3D%20L.tileLayer%28%0A%20%20%20%20%20%20%20%20%20%20%20%20%20%20%20%20%22https%3A//%7Bs%7D.tile.openstreetmap.org/%7Bz%7D/%7Bx%7D/%7By%7D.png%22%2C%0A%20%20%20%20%20%20%20%20%20%20%20%20%20%20%20%20%7B%22attribution%22%3A%20%22Data%20by%20%5Cu0026copy%3B%20%5Cu003ca%20href%3D%5C%22http%3A//openstreetmap.org%5C%22%5Cu003eOpenStreetMap%5Cu003c/a%5Cu003e%2C%20under%20%5Cu003ca%20href%3D%5C%22http%3A//www.openstreetmap.org/copyright%5C%22%5Cu003eODbL%5Cu003c/a%5Cu003e.%22%2C%20%22detectRetina%22%3A%20false%2C%20%22maxNativeZoom%22%3A%2018%2C%20%22maxZoom%22%3A%2018%2C%20%22minZoom%22%3A%200%2C%20%22noWrap%22%3A%20false%2C%20%22opacity%22%3A%201%2C%20%22subdomains%22%3A%20%22abc%22%2C%20%22tms%22%3A%20false%7D%0A%20%20%20%20%20%20%20%20%20%20%20%20%29.addTo%28map_1b70606e1c95461e9420f8ffdb9b5e74%29%3B%0A%20%20%20%20%20%20%20%20%0A%20%20%20%20%0A%20%20%20%20%20%20%20%20%20%20%20%20var%20heat_map_9ebe532f310640deb522292b04898b06%20%3D%20L.heatLayer%28%0A%20%20%20%20%20%20%20%20%20%20%20%20%20%20%20%20%5B%5B38.62875%2C%20-121.405521%5D%2C%20%5B36.03769%2C%20-79.82391%5D%2C%20%5B33.766425%2C%20-117.866975%5D%2C%20%5B29.69882%2C%20-95.387064%5D%2C%20%5B39.632618%2C%20-78.916613%5D%2C%20%5B37.881911%2C%20-122.308246%5D%2C%20%5B45.29361%2C%20-118.03694%5D%2C%20%5B40.642532%2C%20-74.019683%5D%2C%20%5B32.95834%2C%20-105.94248%5D%2C%20%5B26.275216%2C%20-80.491965%5D%2C%20%5B45.613588%2C%20-121.621422%5D%2C%20%5B33.967701%2C%20-117.91527%5D%2C%20%5B35.24903%2C%20-80.89756%5D%2C%20%5B35.17777%2C%20-89.83106%5D%2C%20%5B32.477119%2C%20-93.741707%5D%2C%20%5B40.61814%2C%20-111.90483%5D%2C%20%5B39.26914%2C%20-76.63372%5D%2C%20%5B39.14523%2C%20-84.56279%5D%2C%20%5B40.712445%2C%20-111.820274%5D%2C%20%5B29.40591%2C%20-98.46125%5D%2C%20%5B45.10918%2C%20-93.30143%5D%2C%20%5B39.243548%2C%20-76.690519%5D%2C%20%5B26.328982%2C%20-81.805612%5D%2C%20%5B32.970585%2C%20-117.249409%5D%2C%20%5B35.800806%2C%20-78.514813%5D%2C%20%5B37.642905%2C%20-121.887258%5D%2C%20%5B36.109131%2C%20-86.925812%5D%2C%20%5B44.93021%2C%20-93.35005%5D%2C%20%5B45.375684%2C%20-122.380844%5D%2C%20%5B39.464467%2C%20-80.136498%5D%2C%20%5B37.617602%2C%20-122.074286%5D%2C%20%5B45.45572%2C%20-95.91197%5D%2C%20%5B37.69592%2C%20-122.10489%5D%2C%20%5B44.11754%2C%20-121.31577%5D%2C%20%5B38.79495%2C%20-77.01417%5D%2C%20%5B37.18787%2C%20-121.68887%5D%2C%20%5B38.38486%2C%20-122.71611%5D%2C%20%5B37.809716%2C%20-81.212457%5D%2C%20%5B37.756812%2C%20-121.547336%5D%2C%20%5B33.750761%2C%20-84.381362%5D%2C%20%5B39.941293%2C%20-83.011029%5D%2C%20%5B39.74907%2C%20-84.20094%5D%2C%20%5B27.96509%2C%20-82.44727%5D%2C%20%5B36.051655%2C%20-119.0344%5D%2C%20%5B45.286277%2C%20-93.002926%5D%2C%20%5B26.706235%2C%20-80.085428%5D%2C%20%5B40.4413%2C%20-74.26345%5D%2C%20%5B28.298538%2C%20-81.577788%5D%2C%20%5B37.278467%2C%20-121.864138%5D%2C%20%5B32.41442%2C%20-86.352721%5D%2C%20%5B36.1634%2C%20-86.76194%5D%2C%20%5B38.56341%2C%20-121.34143%5D%2C%20%5B42.47603%2C%20-83.11779%5D%2C%20%5B39.517002%2C%20-74.691098%5D%2C%20%5B41.54399%2C%20-72.10985%5D%2C%20%5B37.216138%2C%20-77.383705%5D%2C%20%5B42.604831%2C%20-83.193771%5D%2C%20%5B34.282411%2C%20-118.736443%5D%2C%20%5B42.49079%2C%20-83.03765%5D%2C%20%5B27.348131%2C%20-82.162569%5D%2C%20%5B38.427203%2C%20-78.877276%5D%2C%20%5B38.246761%2C%20-85.752274%5D%2C%20%5B33.8723%2C%20-117.7459%5D%2C%20%5B34.43731%2C%20-119.167287%5D%2C%20%5B38.01335%2C%20-122.09093%5D%2C%20%5B37.721198%2C%20-122.400349%5D%2C%20%5B35.049197%2C%20-85.262742%5D%2C%20%5B42.4111%2C%20-83.1665%5D%2C%20%5B45.35452%2C%20-122.76404%5D%2C%20%5B36.27711%2C%20-86.73479%5D%2C%20%5B39.97871%2C%20-82.98096%5D%2C%20%5B42.40793%2C%20-88.004452%5D%2C%20%5B43.09299%2C%20-73.75088%5D%2C%20%5B40.75124%2C%20-111.93901%5D%2C%20%5B38.655592%2C%20-121.382817%5D%2C%20%5B25.745295%2C%20-80.39215%5D%2C%20%5B32.76096%2C%20-96.77084%5D%2C%20%5B40.6407%2C%20-73.74334%5D%2C%20%5B26.343246%2C%20-80.170386%5D%2C%20%5B38.425651%2C%20-77.42095%5D%2C%20%5B36.856053%2C%20-121.63262%5D%2C%20%5B33.371164%2C%20-117.252297%5D%2C%20%5B45.00213%2C%20-122.99808%5D%2C%20%5B28.042394%2C%20-82.709208%5D%2C%20%5B26.0813%2C%20-80.159%5D%2C%20%5B33.937231%2C%20-118.094083%5D%2C%20%5B32.3005%2C%20-95.294749%5D%2C%20%5B29.75564%2C%20-95.55819%5D%2C%20%5B28.289849%2C%20-81.598599%5D%2C%20%5B40.84507%2C%20-73.91626%5D%2C%20%5B30.340601%2C%20-81.760607%5D%2C%20%5B32.437017%2C%20-83.756012%5D%2C%20%5B40.566357%2C%20-75.503277%5D%2C%20%5B33.798255%2C%20-83.868258%5D%2C%20%5B34.028992%2C%20-118.012844%5D%2C%20%5B34.5091%2C%20-81.598394%5D%2C%20%5B44.85758%2C%20-93.2982%5D%2C%20%5B46.99983%2C%20-122.2959%5D%2C%20%5B28.957914%2C%20-82.122698%5D%2C%20%5B32.57785%2C%20-97.31971%5D%2C%20%5B40.82368%2C%20-73.87745%5D%2C%20%5B40.776818%2C%20-111.46751%5D%2C%20%5B39.414106%2C%20-76.662501%5D%2C%20%5B28.360657%2C%20-82.649664%5D%2C%20%5B27.92983%2C%20-82.35014%5D%2C%20%5B37.327743%2C%20-121.878188%5D%2C%20%5B45.04324%2C%20-122.97637%5D%2C%20%5B30.250224%2C%20-97.806307%5D%2C%20%5B34.050121%2C%20-117.816569%5D%2C%20%5B33.811%2C%20-84.37305%5D%2C%20%5B44.9648%2C%20-93.28543%5D%2C%20%5B32.77166%2C%20-117.13213%5D%2C%20%5B33.97942%2C%20-117.33935%5D%2C%20%5B40.88425%2C%20-111.89223%5D%2C%20%5B44.396375%2C%20-93.962409%5D%2C%20%5B44.89089%2C%20-93.39929%5D%2C%20%5B45.311848%2C%20-121.791751%5D%2C%20%5B39.15188%2C%20-77.21999%5D%2C%20%5B36.582472%2C%20-121.895665%5D%2C%20%5B40.786323%2C%20-74.052123%5D%2C%20%5B45.24955%2C%20-122.72272%5D%2C%20%5B30.42073%2C%20-84.22889%5D%2C%20%5B40.776127%2C%20-81.692301%5D%2C%20%5B35.303278%2C%20-80.747431%5D%2C%20%5B45.082386%2C%20-93.287669%5D%2C%20%5B35.05041%2C%20-80.86809%5D%2C%20%5B39.57931%2C%20-104.8761%5D%2C%20%5B37.909516%2C%20-79.259737%5D%2C%20%5B30.471953%2C%20-84.290987%5D%2C%20%5B30.790002%2C%20-81.688194%5D%2C%20%5B38.57985%2C%20-121.5054%5D%2C%20%5B25.94137%2C%20-80.18982%5D%2C%20%5B38.64459%2C%20-121.38531%5D%2C%20%5B35.872124%2C%20-78.725808%5D%2C%20%5B48.974808%2C%20-122.271534%5D%2C%20%5B43.02938%2C%20-112.4079%5D%2C%20%5B41.738466%2C%20-72.629016%5D%2C%20%5B37.954173%2C%20-121.312454%5D%2C%20%5B43.567163%2C%20-76.187468%5D%2C%20%5B37.930659%2C%20-121.296045%5D%2C%20%5B38.010654%2C%20-122.542104%5D%2C%20%5B32.68071%2C%20-117.086287%5D%2C%20%5B28.545231%2C%20-81.438666%5D%2C%20%5B33.762795%2C%20-83.434007%5D%2C%20%5B37.609428%2C%20-120.993582%5D%2C%20%5B32.77361%2C%20-97.31957%5D%2C%20%5B32.854047%2C%20-96.645827%5D%2C%20%5B37.73799%2C%20-122.19428%5D%2C%20%5B40.70245%2C%20-73.81629%5D%2C%20%5B44.907571%2C%20-93.534067%5D%2C%20%5B35.73001%2C%20-78.55616%5D%2C%20%5B37.820377%2C%20-122.255701%5D%2C%20%5B34.263736%2C%20-118.994642%5D%2C%20%5B42.35633%2C%20-83.05122%5D%2C%20%5B38.399542%2C%20-122.20408%5D%2C%20%5B39.07978%2C%20-76.900729%5D%2C%20%5B33.91539%2C%20-84.34737%5D%2C%20%5B41.78967%2C%20-87.63064%5D%2C%20%5B33.762698%2C%20-84.382948%5D%2C%20%5B25.47252%2C%20-80.44737%5D%2C%20%5B33.803027%2C%20-117.96757%5D%2C%20%5B38.251808%2C%20-121.446551%5D%2C%20%5B28.15246%2C%20-81.85324%5D%2C%20%5B38.6419%2C%20-121.14956%5D%2C%20%5B41.926389%2C%20-122.579472%5D%2C%20%5B43.129202%2C%20-77.55338%5D%2C%20%5B44.188641%2C%20-90.630123%5D%2C%20%5B38.554453%2C%20-121.372362%5D%2C%20%5B30.44046%2C%20-91.21484%5D%2C%20%5B37.69053%2C%20-122.07805%5D%2C%20%5B34.79389%2C%20-86.74917%5D%2C%20%5B29.827192%2C%20-95.49226%5D%2C%20%5B35.82395%2C%20-78.61782%5D%2C%20%5B34.021935%2C%20-118.19769%5D%2C%20%5B33.306%2C%20-111.89418%5D%2C%20%5B41.580222%2C%20-73.909031%5D%2C%20%5B41.28137%2C%20-96.07583%5D%2C%20%5B36.01869%2C%20-78.90528%5D%2C%20%5B34.156445%2C%20-118.250355%5D%2C%20%5B36.198056%2C%20-121.151944%5D%2C%20%5B26.00348%2C%20-80.21613%5D%2C%20%5B37.48949%2C%20-122.22177%5D%2C%20%5B38.629227%2C%20-121.21573%5D%2C%20%5B33.95624%2C%20-118.280557%5D%2C%20%5B32.90894%2C%20-96.89251%5D%2C%20%5B47.23999%2C%20-122.402341%5D%2C%20%5B42.54601%2C%20-71.76002%5D%2C%20%5B40.68211%2C%20-111.97876%5D%2C%20%5B37.699101%2C%20-122.069013%5D%2C%20%5B33.4616%2C%20-112.09909%5D%2C%20%5B30.17488%2C%20-85.62502%5D%2C%20%5B30.215703%2C%20-84.361283%5D%2C%20%5B29.818531%2C%20-95.983304%5D%2C%20%5B33.18353%2C%20-117.29147%5D%2C%20%5B32.645521%2C%20-96.856532%5D%2C%20%5B37.209444%2C%20-121.7225%5D%2C%20%5B45.818845%2C%20-94.283845%5D%2C%20%5B32.92629%2C%20-83.7268%5D%2C%20%5B33.897338%2C%20-117.49157%5D%2C%20%5B34.067323%2C%20-117.554317%5D%2C%20%5B33.9864%2C%20-118.28039%5D%2C%20%5B42.443028%2C%20-82.918227%5D%2C%20%5B34.004322%2C%20-117.726803%5D%2C%20%5B40.88966%2C%20-74.13117%5D%2C%20%5B45.49786%2C%20-122.41391%5D%2C%20%5B33.31945%2C%20-80.54853%5D%2C%20%5B34.472062%2C%20-118.316002%5D%2C%20%5B43.05177%2C%20-86.22019%5D%2C%20%5B35.20238%2C%20-111.41106%5D%2C%20%5B38.22546%2C%20-122.57388%5D%2C%20%5B38.3406%2C%20-81.704925%5D%2C%20%5B37.355084%2C%20-121.83854%5D%2C%20%5B34.065284%2C%20-117.806665%5D%2C%20%5B33.69387%2C%20-84.40419%5D%2C%20%5B36.269405%2C%20-86.689866%5D%2C%20%5B34.033265%2C%20-118.184642%5D%2C%20%5B34.03449%2C%20-118.17702%5D%2C%20%5B35.31281%2C%20-80.70561%5D%2C%20%5B33.739861%2C%20-80.208982%5D%2C%20%5B29.829736%2C%20-81.381386%5D%2C%20%5B34.154619%2C%20-118.15769%5D%2C%20%5B40.01653%2C%20-76.587785%5D%2C%20%5B35.77119%2C%20-78.45127%5D%2C%20%5B37.53001%2C%20-77.32137%5D%2C%20%5B28.605911%2C%20-81.380624%5D%2C%20%5B45.233061%2C%20-122.75651%5D%2C%20%5B41.38056%2C%20-81.73469%5D%2C%20%5B34.020022%2C%20-117.544693%5D%2C%20%5B37.95904%2C%20-121.215409%5D%2C%20%5B35.397074%2C%20-82.500831%5D%2C%20%5B34.14849%2C%20-118.37269%5D%2C%20%5B37.752231%2C%20-77.850934%5D%2C%20%5B37.503818%2C%20-121.962855%5D%2C%20%5B39.02668%2C%20-76.4441%5D%2C%20%5B35.20792%2C%20-80.87626%5D%2C%20%5B36.03802%2C%20-86.64671%5D%2C%20%5B42.240618%2C%20-87.936179%5D%2C%20%5B42.38536%2C%20-123.46552%5D%2C%20%5B32.22151%2C%20-110.9097%5D%2C%20%5B42.9464%2C%20-78.90877%5D%2C%20%5B38.27009%2C%20-122.05232%5D%2C%20%5B37.919421%2C%20-122.693339%5D%2C%20%5B37.36281%2C%20-121.84308%5D%2C%20%5B37.48245%2C%20-77.35678%5D%2C%20%5B37.54481%2C%20-77.42825%5D%2C%20%5B33.978239%2C%20-84.100418%5D%2C%20%5B39.9486%2C%20-82.22228%5D%2C%20%5B37.40781%2C%20-122.19072%5D%2C%20%5B39.91974%2C%20-86.10606%5D%2C%20%5B45.371574%2C%20-118.298847%5D%2C%20%5B26.416851%2C%20-80.171624%5D%2C%20%5B41.14703%2C%20-96.175569%5D%2C%20%5B30.107792%2C%20-97.809269%5D%2C%20%5B44.914501%2C%20-123.154217%5D%2C%20%5B38.60503%2C%20-90.26923%5D%2C%20%5B29.33695%2C%20-81.13098%5D%2C%20%5B35.25382%2C%20-80.98083%5D%2C%20%5B43.986847%2C%20-116.186711%5D%2C%20%5B44.694002%2C%20-93.290222%5D%2C%20%5B42.48021%2C%20-83.207%5D%2C%20%5B44.05264%2C%20-123.291312%5D%2C%20%5B45.66172%2C%20-93.92958%5D%2C%20%5B29.950351%2C%20-82.345992%5D%2C%20%5B34.790278%2C%20-82.416268%5D%2C%20%5B35.356144%2C%20-80.871073%5D%2C%20%5B42.49438%2C%20-83.29504%5D%2C%20%5B40.99363%2C%20-82.92274%5D%2C%20%5B36.170966%2C%20-86.800681%5D%2C%20%5B39.76298%2C%20-104.82776%5D%2C%20%5B34.033847%2C%20-81.118444%5D%2C%20%5B40.22963%2C%20-76.43405%5D%2C%20%5B26.71126%2C%20-81.80851%5D%2C%20%5B34.01467%2C%20-117.08389%5D%2C%20%5B34.16506%2C%20-117.4616%5D%2C%20%5B37.573586%2C%20-122.393532%5D%2C%20%5B25.785602%2C%20-80.214287%5D%2C%20%5B32.833102%2C%20-117.233065%5D%2C%20%5B27.83924%2C%20-82.722491%5D%2C%20%5B36.73466%2C%20-120.16863%5D%2C%20%5B33.78461%2C%20-118.20772%5D%2C%20%5B39.14917%2C%20-84.44711%5D%2C%20%5B39.404643%2C%20-76.572722%5D%2C%20%5B44.09146%2C%20-121.30496%5D%2C%20%5B40.55018%2C%20-111.89602%5D%2C%20%5B34.004353%2C%20-118.063689%5D%2C%20%5B33.85684%2C%20-118.284809%5D%2C%20%5B35.544129%2C%20-80.859342%5D%2C%20%5B38.01522%2C%20-121.75167%5D%2C%20%5B35.735682%2C%20-119.742339%5D%2C%20%5B34.949976%2C%20-118.291752%5D%2C%20%5B44.6367%2C%20-123.9444%5D%2C%20%5B34.82316%2C%20-82.28986%5D%2C%20%5B39.019309%2C%20-76.976973%5D%2C%20%5B37.70117%2C%20-121.825658%5D%2C%20%5B39.349487%2C%20-76.509778%5D%2C%20%5B33.93757%2C%20-84.35795%5D%2C%20%5B42.26322%2C%20-71.57216%5D%2C%20%5B32.196196%2C%20-110.773181%5D%2C%20%5B33.89001%2C%20-84.28587%5D%2C%20%5B41.82529%2C%20-71.4193%5D%2C%20%5B26.057327%2C%20-80.162333%5D%2C%20%5B33.49859%2C%20-112.0438%5D%2C%20%5B34.06587%2C%20-117.32286%5D%2C%20%5B33.71912%2C%20-84.39681%5D%2C%20%5B40.958588%2C%20-115.46541%5D%2C%20%5B37.690511%2C%20-122.078223%5D%2C%20%5B40.922879%2C%20-77.51478%5D%2C%20%5B33.717223%2C%20-117.968798%5D%2C%20%5B37.804087%2C%20-122.302728%5D%2C%20%5B36.793337%2C%20-119.808614%5D%2C%20%5B45.28522%2C%20-93.56146%5D%2C%20%5B33.791664%2C%20-117.8903%5D%2C%20%5B40.6238%2C%20-74.21623%5D%2C%20%5B30.616982%2C%20-84.675273%5D%2C%20%5B34.014582%2C%20-118.168163%5D%2C%20%5B39.81685%2C%20-84.18902%5D%2C%20%5B25.626078%2C%20-80.418627%5D%2C%20%5B46.12306%2C%20-123.79477%5D%2C%20%5B34.06827%2C%20-117.800999%5D%2C%20%5B41.458%2C%20-83.62243%5D%2C%20%5B47.145197%2C%20-122.50789%5D%2C%20%5B34.236434%2C%20-117.242553%5D%2C%20%5B30.213367%2C%20-97.9666%5D%2C%20%5B40.72499%2C%20-73.557%5D%2C%20%5B38.597837%2C%20-121.423768%5D%2C%20%5B32.92622%2C%20-96.81746%5D%2C%20%5B28.725205%2C%20-81.358579%5D%2C%20%5B40.820239%2C%20-73.959419%5D%2C%20%5B33.952723%2C%20-84.130341%5D%2C%20%5B36.144349%2C%20-86.693561%5D%2C%20%5B45.112403%2C%20-93.473049%5D%2C%20%5B38.874486%2C%20-77.043081%5D%2C%20%5B27.79197%2C%20-82.66313%5D%2C%20%5B35.159478%2C%20-81.476369%5D%2C%20%5B39.848449%2C%20-75.073266%5D%2C%20%5B28.525743%2C%20-81.310477%5D%2C%20%5B28.032954%2C%20-82.349021%5D%2C%20%5B33.47127%2C%20-112.11212%5D%2C%20%5B28.60049%2C%20-81.3862%5D%2C%20%5B45.18443%2C%20-123.918297%5D%2C%20%5B31.82697%2C%20-102.35909%5D%2C%20%5B41.930655%2C%20-91.669384%5D%2C%20%5B47.708543%2C%20-122.33017%5D%2C%20%5B42.98555%2C%20-83.73422%5D%2C%20%5B27.447747%2C%20-82.576939%5D%2C%20%5B25.879776%2C%20-80.20926%5D%2C%20%5B33.975108%2C%20-118.079792%5D%2C%20%5B34.034375%2C%20-118.177708%5D%2C%20%5B41.47009%2C%20-87.07235%5D%2C%20%5B37.213538%2C%20-119.708539%5D%2C%20%5B33.86079%2C%20-118.03902%5D%2C%20%5B39.10838%2C%20-84.50297%5D%2C%20%5B35.962725%2C%20-83.952294%5D%2C%20%5B27.586959%2C%20-82.409144%5D%2C%20%5B40.64725%2C%20-77.746032%5D%2C%20%5B39.05391%2C%20-84.25582%5D%2C%20%5B41.718976%2C%20-87.5851%5D%2C%20%5B39.989322%2C%20-76.662243%5D%2C%20%5B25.791467%2C%20-80.205291%5D%2C%20%5B44.142998%2C%20-122.56443%5D%2C%20%5B30.181808%2C%20-97.751829%5D%2C%20%5B38.64315%2C%20-121.43413%5D%2C%20%5B34.261003%2C%20-118.472324%5D%2C%20%5B33.872499%2C%20-117.803814%5D%2C%20%5B29.498859%2C%20-98.550549%5D%2C%20%5B36.81558%2C%20-79.93557%5D%2C%20%5B30.38994%2C%20-87.06655%5D%2C%20%5B38.088285%2C%20-122.231856%5D%2C%20%5B34.15439%2C%20-118.38286%5D%2C%20%5B26.70618%2C%20-80.08229%5D%2C%20%5B40.18125%2C%20-74.10127%5D%2C%20%5B34.98452%2C%20-81.97343%5D%2C%20%5B37.355117%2C%20-122.062086%5D%2C%20%5B43.025158%2C%20-85.665912%5D%2C%20%5B37.28875%2C%20-113.65864%5D%2C%20%5B41.10135%2C%20-73.5704%5D%2C%20%5B34.003375%2C%20-118.372688%5D%2C%20%5B34.01818%2C%20-117.339807%5D%2C%20%5B33.753911%2C%20-84.705533%5D%2C%20%5B34.256683%2C%20-118.434866%5D%2C%20%5B28.60245%2C%20-81.25257%5D%2C%20%5B28.064657%2C%20-82.73877%5D%2C%20%5B40.609592%2C%20-111.306252%5D%2C%20%5B39.125975%2C%20-121.07751%5D%2C%20%5B33.68972%2C%20-117.76843%5D%2C%20%5B39.88277%2C%20-104.98746%5D%2C%20%5B38.680346%2C%20-121.95225%5D%2C%20%5B39.73201%2C%20-86.04492%5D%2C%20%5B33.194872%2C%20-117.24968%5D%2C%20%5B39.77537%2C%20-104.860736%5D%2C%20%5B45.12802%2C%20-93.21884%5D%2C%20%5B33.550217%2C%20-117.183729%5D%2C%20%5B33.8691%2C%20-118.19517%5D%2C%20%5B30.479241%2C%20-91.127985%5D%2C%20%5B39.958595%2C%20-76.740263%5D%2C%20%5B40.466004%2C%20-80.03408%5D%2C%20%5B38.99469%2C%20-76.88884%5D%2C%20%5B25.626388%2C%20-80.413114%5D%2C%20%5B42.02414%2C%20-71.26135%5D%2C%20%5B30.41637%2C%20-91.0699%5D%2C%20%5B33.74351%2C%20-84.38777%5D%2C%20%5B35.745917%2C%20-78.593219%5D%2C%20%5B43.19833%2C%20-77.9672%5D%2C%20%5B28.027206%2C%20-82.180727%5D%2C%20%5B33.43958%2C%20-111.8905%5D%2C%20%5B39.895981%2C%20-75.108064%5D%2C%20%5B40.80866%2C%20-73.22129%5D%2C%20%5B39.89908%2C%20-75.17405%5D%2C%20%5B33.972538%2C%20-80.954964%5D%2C%20%5B29.954491%2C%20-90.070778%5D%2C%20%5B42.173643%2C%20-121.717167%5D%2C%20%5B34.06768%2C%20-117.58898%5D%2C%20%5B25.887977%2C%20-80.186364%5D%2C%20%5B35.176505%2C%20-80.796223%5D%2C%20%5B34.063788%2C%20-117.286662%5D%2C%20%5B34.01314%2C%20-117.440315%5D%2C%20%5B38.851328%2C%20-76.959415%5D%2C%20%5B42.59552%2C%20-83.16008%5D%2C%20%5B25.893931%2C%20-80.186567%5D%2C%20%5B47.27315%2C%20-122.25985%5D%2C%20%5B33.896163%2C%20-118.193484%5D%2C%20%5B25.687136%2C%20-80.446177%5D%2C%20%5B34.031831%2C%20-117.550055%5D%2C%20%5B37.808253%2C%20-122.366974%5D%2C%20%5B37.000584%2C%20-82.593401%5D%2C%20%5B35.209051%2C%20-80.80008%5D%2C%20%5B42.73535%2C%20-123.3705%5D%2C%20%5B38.92326%2C%20-76.93093%5D%2C%20%5B29.946028%2C%20-90.088542%5D%2C%20%5B34.137278%2C%20-118.471187%5D%2C%20%5B33.928474%2C%20-118.244572%5D%2C%20%5B37.49529%2C%20-77.55611%5D%2C%20%5B35.138645%2C%20-80.909474%5D%2C%20%5B44.95136%2C%20-93.02522%5D%2C%20%5B47.12526%2C%20-122.54594%5D%2C%20%5B33.653573%2C%20-117.395664%5D%2C%20%5B29.44068%2C%20-98.510628%5D%2C%20%5B40.79821%2C%20-73.92276%5D%2C%20%5B38.53825%2C%20-121.47365%5D%2C%20%5B28.48416%2C%20-81.39697%5D%2C%20%5B39.394063%2C%20-76.70232%5D%2C%20%5B41.710571%2C%20-72.646375%5D%2C%20%5B26.368335%2C%20-80.11828%5D%2C%20%5B39.87535%2C%20-75.0497%5D%2C%20%5B40.844731%2C%20-73.925144%5D%2C%20%5B35.44233%2C%20-80.86779%5D%2C%20%5B35.89947%2C%20-84.55299%5D%2C%20%5B33.85606%2C%20-117.98707%5D%2C%20%5B44.681778%2C%20-93.293229%5D%2C%20%5B30.207897%2C%20-85.672252%5D%2C%20%5B33.896004%2C%20-118.203614%5D%2C%20%5B29.770782%2C%20-95.212994%5D%2C%20%5B40.41189%2C%20-83.25507%5D%2C%20%5B44.87763%2C%20-93.41461%5D%2C%20%5B40.172084%2C%20-84.966761%5D%2C%20%5B39.35731%2C%20-76.65005%5D%2C%20%5B40.904902%2C%20-79.371219%5D%2C%20%5B45.58462%2C%20-122.54392%5D%2C%20%5B37.764612%2C%20-121.411081%5D%2C%20%5B45.57471%2C%20-122.67856%5D%2C%20%5B39.317225%2C%20-76.535536%5D%2C%20%5B40.82386%2C%20-74.31905%5D%2C%20%5B39.00786%2C%20-94.35682%5D%2C%20%5B39.27818%2C%20-121.087079%5D%2C%20%5B39.396661%2C%20-77.329641%5D%2C%20%5B34.777528%2C%20-92.257207%5D%2C%20%5B38.315731%2C%20-81.724172%5D%2C%20%5B34.831906%2C%20-92.177256%5D%2C%20%5B38.95188%2C%20-77.02969%5D%2C%20%5B37.550844%2C%20-122.376%5D%2C%20%5B34.44217%2C%20-118.60691%5D%2C%20%5B43.21183%2C%20-77.93962%5D%2C%20%5B37.82494%2C%20-122.31361%5D%2C%20%5B42.368467%2C%20-121.819245%5D%2C%20%5B41.47533%2C%20-81.66027%5D%2C%20%5B40.87821%2C%20-73.97982%5D%2C%20%5B35.9804%2C%20-78.816604%5D%2C%20%5B40.466714%2C%20-78.407606%5D%2C%20%5B39.341815%2C%20-75.006624%5D%2C%20%5B25.769215%2C%20-80.369115%5D%2C%20%5B33.01161%2C%20-96.97853%5D%2C%20%5B41.55854%2C%20-83.418429%5D%2C%20%5B41.553163%2C%20-87.743238%5D%2C%20%5B34.521953%2C%20-118.646087%5D%2C%20%5B36.569016%2C%20-121.755723%5D%2C%20%5B38.879807%2C%20-77.245393%5D%2C%20%5B35.82095%2C%20-78.70488%5D%2C%20%5B34.107853%2C%20-118.258275%5D%2C%20%5B38.772071%2C%20-77.182055%5D%2C%20%5B44.7326%2C%20-122.69495%5D%2C%20%5B33.986071%2C%20-118.070732%5D%2C%20%5B33.300224%2C%20-111.97191%5D%2C%20%5B38.60702%2C%20-121.43154%5D%2C%20%5B39.67538%2C%20-104.93097%5D%2C%20%5B40.797289%2C%20-73.975592%5D%2C%20%5B44.919517%2C%20-117.944421%5D%2C%20%5B33.845969%2C%20-118.092556%5D%2C%20%5B35.338333%2C%20-118.843056%5D%2C%20%5B33.64661%2C%20-78.98397%5D%2C%20%5B37.774526%2C%20-122.232194%5D%2C%20%5B33.462227%2C%20-112.072395%5D%2C%20%5B33.880319%2C%20-117.608576%5D%2C%20%5B45.397852%2C%20-122.574066%5D%2C%20%5B44.701109%2C%20-122.075862%5D%2C%20%5B29.70565%2C%20-95.482123%5D%2C%20%5B34.761052%2C%20-92.402216%5D%2C%20%5B40.82009%2C%20-73.89026%5D%2C%20%5B42.34111%2C%20-88.05414%5D%2C%20%5B34.02722%2C%20-118.23284%5D%2C%20%5B33.87654%2C%20-118.10733%5D%2C%20%5B25.94243%2C%20-80.305887%5D%2C%20%5B33.81064%2C%20-81.00711%5D%2C%20%5B34.072274%2C%20-117.614316%5D%2C%20%5B40.66207%2C%20-111.95246%5D%2C%20%5B39.20759%2C%20-120.78962%5D%2C%20%5B41.388929%2C%20-78.559096%5D%2C%20%5B40.85911%2C%20-111.90442%5D%2C%20%5B28.55292%2C%20-81.41396%5D%2C%20%5B41.38347%2C%20-73.48405%5D%2C%20%5B40.85934%2C%20-74.37775%5D%2C%20%5B34.04064%2C%20-118.05755%5D%2C%20%5B33.82817%2C%20-84.48709%5D%2C%20%5B40.66754%2C%20-73.77433%5D%2C%20%5B36.546892%2C%20-119.556568%5D%2C%20%5B37.126428%2C%20-76.510649%5D%2C%20%5B34.038007%2C%20-118.280286%5D%2C%20%5B33.916413%2C%20-118.27174%5D%2C%20%5B37.977639%2C%20-122.295289%5D%2C%20%5B33.729915%2C%20-117.834066%5D%2C%20%5B34.071292%2C%20-81.146207%5D%2C%20%5B28.0228%2C%20-82.24478%5D%2C%20%5B40.70072%2C%20-73.96139%5D%2C%20%5B35.415482%2C%20-119.027827%5D%2C%20%5B40.06063%2C%20-75.32424%5D%2C%20%5B37.37123%2C%20-121.9145%5D%2C%20%5B30.479762%2C%20-91.117583%5D%2C%20%5B36.537279%2C%20-119.304957%5D%2C%20%5B40.06073%2C%20-75.47704%5D%2C%20%5B33.81296%2C%20-117.91247%5D%2C%20%5B39.60221%2C%20-104.88899%5D%2C%20%5B34.154336%2C%20-118.396588%5D%2C%20%5B47.57096%2C%20-122.349242%5D%2C%20%5B34.202841%2C%20-118.85487%5D%2C%20%5B45.53305%2C%20-122.56447%5D%2C%20%5B34.07213%2C%20-118.09751%5D%2C%20%5B40.16217%2C%20-75.12383%5D%2C%20%5B35.39517%2C%20-119.044772%5D%2C%20%5B40.02308%2C%20-75.0348%5D%2C%20%5B40.226379%2C%20-111.677269%5D%2C%20%5B36.757584%2C%20-76.284203%5D%2C%20%5B45.35637%2C%20-122.66435%5D%2C%20%5B33.462104%2C%20-112.070128%5D%2C%20%5B27.99658%2C%20-82.554916%5D%2C%20%5B30.228774%2C%20-97.700998%5D%2C%20%5B42.67755%2C%20-71.15772%5D%2C%20%5B32.62493%2C%20-117.09432%5D%2C%20%5B42.96619%2C%20-87.92711%5D%2C%20%5B35.122876%2C%20-85.240566%5D%2C%20%5B27.733454%2C%20-81.023425%5D%2C%20%5B38.528681%2C%20-121.7569%5D%2C%20%5B40.239622%2C%20-75.570973%5D%2C%20%5B37.33312%2C%20-121.93802%5D%2C%20%5B29.95932%2C%20-90.15701%5D%2C%20%5B33.87654%2C%20-118.10733%5D%2C%20%5B37.69812%2C%20-121.93979%5D%2C%20%5B32.457478%2C%20-83.605747%5D%2C%20%5B36.845022%2C%20-76.279267%5D%2C%20%5B41.224662%2C%20-73.183203%5D%2C%20%5B38.551683%2C%20-121.699518%5D%2C%20%5B39.056932%2C%20-84.704363%5D%2C%20%5B32.780381%2C%20-117.092531%5D%2C%20%5B35.78259%2C%20-78.44136%5D%2C%20%5B44.92008%2C%20-92.86264%5D%2C%20%5B39.15533%2C%20-94.49798%5D%2C%20%5B38.644595%2C%20-121.586971%5D%2C%20%5B35.831026%2C%20-78.682648%5D%2C%20%5B39.204685%2C%20-77.537083%5D%2C%20%5B35.13256%2C%20-80.95886%5D%2C%20%5B44.28698%2C%20-93.21711%5D%2C%20%5B40.643759%2C%20-74.287973%5D%2C%20%5B34.03639%2C%20-117.3222%5D%2C%20%5B38.114722%2C%20-121.497778%5D%2C%20%5B34.036763%2C%20-118.023745%5D%2C%20%5B35.038745%2C%20-80.805039%5D%2C%20%5B35.33157%2C%20-80.7233%5D%2C%20%5B30.750528%2C%20-85.26722%5D%2C%20%5B40.83073%2C%20-74.14025%5D%2C%20%5B45.542671%2C%20-122.357685%5D%2C%20%5B30.19832%2C%20-97.68427%5D%2C%20%5B37.70956%2C%20-76.380818%5D%2C%20%5B34.07498%2C%20-118.23176%5D%2C%20%5B38.026384%2C%20-121.960225%5D%2C%20%5B38.693033%2C%20-121.225424%5D%2C%20%5B45.33351%2C%20-122.76955%5D%2C%20%5B34.01768%2C%20-118.28072%5D%2C%20%5B41.788763%2C%20-87.63062%5D%2C%20%5B40.27744%2C%20-85.72518%5D%2C%20%5B37.44349%2C%20-77.5813%5D%2C%20%5B33.35626%2C%20-97.18245%5D%2C%20%5B33.933461%2C%20-118.353464%5D%2C%20%5B25.714585%2C%20-80.413965%5D%2C%20%5B40.23394%2C%20-111.68572%5D%2C%20%5B40.761554%2C%20-73.966584%5D%2C%20%5B45.586535%2C%20-94.199529%5D%2C%20%5B44.14692%2C%20-117.10708%5D%2C%20%5B40.011741%2C%20-82.991462%5D%2C%20%5B33.980213%2C%20-117.340072%5D%2C%20%5B28.54136%2C%20-81.41354%5D%2C%20%5B38.93668%2C%20-94.74307%5D%2C%20%5B30.605093%2C%20-84.238197%5D%2C%20%5B43.637424%2C%20-95.873564%5D%2C%20%5B33.428344%2C%20-112.06934%5D%2C%20%5B34.97118%2C%20-82.00673%5D%2C%20%5B33.980385%2C%20-117.369721%5D%2C%20%5B27.88576%2C%20-82.32939%5D%2C%20%5B37.0614%2C%20-122.00457%5D%2C%20%5B29.183885%2C%20-82.312087%5D%2C%20%5B33.779061%2C%20-117.876953%5D%2C%20%5B34.064034%2C%20-84.688133%5D%2C%20%5B33.48351%2C%20-82.19489%5D%2C%20%5B37.133113%2C%20-121.981211%5D%2C%20%5B27.786094%2C%20-82.638525%5D%2C%20%5B39.97038%2C%20-74.73525%5D%2C%20%5B32.72376%2C%20-97.22531%5D%2C%20%5B44.2336%2C%20-88.404733%5D%2C%20%5B42.38346%2C%20-83.066%5D%2C%20%5B37.083033%2C%20-122.050856%5D%2C%20%5B32.67281%2C%20-97.3755%5D%2C%20%5B40.3864%2C%20-122.34339%5D%2C%20%5B34.705778%2C%20-82.500554%5D%2C%20%5B28.562281%2C%20-81.364449%5D%2C%20%5B27.9999%2C%20-82.33557%5D%2C%20%5B32.77462%2C%20-96.77872%5D%2C%20%5B31.77805%2C%20-106.46108%5D%2C%20%5B43.205298%2C%20-124.306601%5D%2C%20%5B32.85892%2C%20-83.64238%5D%2C%20%5B28.298605%2C%20-82.671886%5D%2C%20%5B41.736222%2C%20-72.664596%5D%2C%20%5B35.80881%2C%20-80.18006%5D%2C%20%5B40.36508%2C%20-78.920461%5D%2C%20%5B43.614568%2C%20-116.354486%5D%2C%20%5B32.86005%2C%20-96.90241%5D%2C%20%5B38.600042%2C%20-121.440146%5D%2C%20%5B41.875741%2C%20-87.649286%5D%2C%20%5B44.6576%2C%20-124.0533%5D%2C%20%5B45.352269%2C%20-118.172217%5D%2C%20%5B28.536704%2C%20-81.366283%5D%2C%20%5B42.643788%2C%20-122.80923%5D%2C%20%5B35.00174%2C%20-80.85558%5D%2C%20%5B35.197507%2C%20-78.675719%5D%2C%20%5B42.3966%2C%20-87.929525%5D%2C%20%5B36.603809%2C%20-121.828033%5D%2C%20%5B33.79578%2C%20-84.39261%5D%2C%20%5B33.38734%2C%20-111.9598%5D%2C%20%5B30.44251%2C%20-88.72092%5D%2C%20%5B39.99307%2C%20-75.82254%5D%2C%20%5B33.989336%2C%20-118.256424%5D%2C%20%5B38.8016%2C%20-77.51632%5D%2C%20%5B42.29737%2C%20-83.98048%5D%2C%20%5B42.370461%2C%20-87.881555%5D%2C%20%5B45.27426%2C%20-122.77446%5D%2C%20%5B38.86309%2C%20-76.97281%5D%2C%20%5B40.7506%2C%20-74.11613%5D%2C%20%5B37.242778%2C%20-121.803611%5D%2C%20%5B47.39698%2C%20-122.32395%5D%2C%20%5B41.62043%2C%20-87.57886%5D%2C%20%5B44.00694%2C%20-92.48206%5D%2C%20%5B33.97992%2C%20-84.53735%5D%2C%20%5B34.044896%2C%20-81.100202%5D%2C%20%5B30.364959%2C%20-81.668886%5D%2C%20%5B42.774828%2C%20-73.987458%5D%2C%20%5B34.06393%2C%20-117.27173%5D%2C%20%5B39.924735%2C%20-104.803596%5D%2C%20%5B37.34722%2C%20-121.84173%5D%2C%20%5B33.45141%2C%20-112.03755%5D%2C%20%5B36.138592%2C%20-86.728144%5D%2C%20%5B30.265877%2C%20-97.74097%5D%2C%20%5B36.734291%2C%20-119.777812%5D%2C%20%5B41.10518%2C%20-73.79698%5D%2C%20%5B33.92985%2C%20-118.36852%5D%2C%20%5B41.75952%2C%20-72.64124%5D%2C%20%5B29.97278%2C%20-90.06571%5D%2C%20%5B38.8144%2C%20-77.14085%5D%2C%20%5B40.020604%2C%20-75.155405%5D%2C%20%5B34.150418%2C%20-118.439037%5D%2C%20%5B35.111911%2C%20-80.917243%5D%2C%20%5B37.869523%2C%20-122.304749%5D%2C%20%5B33.739844%2C%20-84.328634%5D%2C%20%5B34.074874%2C%20-118.232228%5D%2C%20%5B40.57638%2C%20-112.06075%5D%2C%20%5B25.890375%2C%20-80.209289%5D%2C%20%5B33.86351%2C%20-118.32265%5D%2C%20%5B43.733042%2C%20-116.707838%5D%2C%20%5B29.861745%2C%20-95.384719%5D%2C%20%5B40.8627%2C%20-73.90899%5D%2C%20%5B33.6065%2C%20-117.69405%5D%2C%20%5B45.28908%2C%20-122.76929%5D%2C%20%5B35.595155%2C%20-84.519914%5D%2C%20%5B33.68543%2C%20-85.15809%5D%2C%20%5B47.517637%2C%20-111.751714%5D%2C%20%5B35.109283%2C%20-80.927637%5D%2C%20%5B32.713648%2C%20-117.130404%5D%2C%20%5B47.686816%2C%20-122.32662%5D%2C%20%5B37.76095%2C%20-122.40623%5D%2C%20%5B46.19904%2C%20-92.84528%5D%2C%20%5B25.924436%2C%20-80.309948%5D%2C%20%5B30.36777%2C%20-81.72229%5D%2C%20%5B33.92791%2C%20-118.25427%5D%2C%20%5B41.90616%2C%20-88.13595%5D%2C%20%5B37.069987%2C%20-76.434426%5D%2C%20%5B39.71077%2C%20-104.99893%5D%2C%20%5B43.51752%2C%20-71.61417%5D%2C%20%5B34.008017%2C%20-118.157669%5D%2C%20%5B34.274522%2C%20-118.53865%5D%2C%20%5B40.862756%2C%20-74.181007%5D%2C%20%5B41.47529%2C%20-81.7165%5D%2C%20%5B43.296688%2C%20-70.994139%5D%2C%20%5B41.81468%2C%20-112.40488%5D%2C%20%5B33.524125%2C%20-86.808074%5D%2C%20%5B34.069431%2C%20-118.23574%5D%2C%20%5B33.89498%2C%20-117.49931%5D%2C%20%5B43.6194%2C%20-116.356154%5D%2C%20%5B29.67598%2C%20-95.28937%5D%2C%20%5B34.7049%2C%20-86.3952%5D%2C%20%5B33.96348%2C%20-117.32473%5D%2C%20%5B33.93406%2C%20-117.4079%5D%2C%20%5B37.06897%2C%20-120.303968%5D%2C%20%5B45.57469%2C%20-92.992433%5D%2C%20%5B34.0689%2C%20-117.36489%5D%2C%20%5B42.49517%2C%20-83.52322%5D%2C%20%5B32.720177%2C%20-96.814432%5D%2C%20%5B33.993024%2C%20-117.35734%5D%2C%20%5B38.50064%2C%20-121.51766%5D%2C%20%5B31.72523%2C%20-106.35712%5D%2C%20%5B38.08052%2C%20-122.54452%5D%2C%20%5B39.27899%2C%20-76.55323%5D%2C%20%5B32.80015%2C%20-96.82141%5D%2C%20%5B33.49364%2C%20-112.29025%5D%2C%20%5B40.75476%2C%20-73.54974%5D%2C%20%5B33.844375%2C%20-118.30937%5D%2C%20%5B39.78469%2C%20-105.0864%5D%2C%20%5B38.79643%2C%20-104.75767%5D%2C%20%5B36.774353%2C%20-76.368522%5D%2C%20%5B47.63967%2C%20-122.1867%5D%2C%20%5B38.454408%2C%20-119.460216%5D%2C%20%5B25.91322%2C%20-80.32487%5D%2C%20%5B34.108219%2C%20-81.190527%5D%2C%20%5B41.493862%2C%20-87.520672%5D%2C%20%5B38.86706%2C%20-77.36091%5D%2C%20%5B40.84383%2C%20-73.8956%5D%2C%20%5B37.71798%2C%20-121.70142%5D%2C%20%5B34.014535%2C%20-81.14189%5D%2C%20%5B25.51534%2C%20-80.4076%5D%2C%20%5B45.129986%2C%20-93.39108%5D%2C%20%5B42.084754%2C%20-87.868113%5D%2C%20%5B34.14523%2C%20-117.283129%5D%2C%20%5B36.05999%2C%20-79.60855%5D%2C%20%5B33.36565%2C%20-117.249315%5D%2C%20%5B38.326207%2C%20-77.728104%5D%2C%20%5B40.765269%2C%20-111.952729%5D%2C%20%5B33.64399%2C%20-112.11544%5D%2C%20%5B41.7217%2C%20-87.62416%5D%2C%20%5B37.36274%2C%20-121.88781%5D%2C%20%5B30.309358%2C%20-97.570534%5D%2C%20%5B45.6182%2C%20-122.67533%5D%2C%20%5B39.39748%2C%20-76.60324%5D%2C%20%5B42.21981%2C%20-88.06681%5D%2C%20%5B33.80608%2C%20-117.8801%5D%2C%20%5B34.86123%2C%20-82.25353%5D%2C%20%5B32.76107%2C%20-117.16302%5D%2C%20%5B30.65475%2C%20-87.91215%5D%2C%20%5B27.98163%2C%20-82.28593%5D%2C%20%5B34.147736%2C%20-118.031661%5D%2C%20%5B42.44787%2C%20-83.21992%5D%2C%20%5B34.828577%2C%20-82.502212%5D%2C%20%5B28.537884%2C%20-81.458644%5D%2C%20%5B42.228538%2C%20-121.847265%5D%2C%20%5B34.361841%2C%20-119.447575%5D%2C%20%5B25.934612%2C%20-80.219217%5D%2C%20%5B42.46269%2C%20-123.31834%5D%2C%20%5B39.12387%2C%20-94.49479%5D%2C%20%5B36.066332%2C%20-119.314492%5D%2C%20%5B34.245869%2C%20-111.32283%5D%2C%20%5B44.24764%2C%20-121.02482%5D%2C%20%5B28.295792%2C%20-80.748277%5D%2C%20%5B43.40431%2C%20-70.56306%5D%2C%20%5B32.84392%2C%20-96.63466%5D%2C%20%5B42.74805%2C%20-71.49289%5D%2C%20%5B39.87685%2C%20-86.28838%5D%2C%20%5B40.85842%2C%20-73.87267%5D%2C%20%5B45.05671%2C%20-93.3121%5D%2C%20%5B42.64903%2C%20-111.738169%5D%2C%20%5B34.1921%2C%20-118.47437%5D%2C%20%5B38.580253%2C%20-121.488688%5D%2C%20%5B30.476719%2C%20-91.16726%5D%2C%20%5B44.85795%2C%20-93.33464%5D%2C%20%5B33.85595%2C%20-118.00244%5D%2C%20%5B33.687994%2C%20-117.907896%5D%2C%20%5B34.150967%2C%20-118.69376%5D%2C%20%5B44.42567%2C%20-121.73809%5D%2C%20%5B27.939135%2C%20-82.787461%5D%2C%20%5B38.01525%2C%20-121.88311%5D%2C%20%5B32.77451%2C%20-97.21256%5D%2C%20%5B37.77053%2C%20-121.17403%5D%2C%20%5B38.971949%2C%20-93.282562%5D%2C%20%5B34.047923%2C%20-117.800988%5D%2C%20%5B29.68304%2C%20-95.03017%5D%2C%20%5B40.848369%2C%20-73.936037%5D%2C%20%5B44.35437%2C%20-95.126978%5D%2C%20%5B40.81571%2C%20-74.44499%5D%2C%20%5B43.24163%2C%20-77.62032%5D%2C%20%5B38.135882%2C%20-122.222279%5D%2C%20%5B33.827012%2C%20-117.525837%5D%2C%20%5B35.24771%2C%20-80.75249%5D%2C%20%5B40.71979%2C%20-111.85501%5D%2C%20%5B33.94595%2C%20-118.17052%5D%2C%20%5B39.626983%2C%20-120.472103%5D%2C%20%5B41.03297%2C%20-111.90906%5D%2C%20%5B28.9819%2C%20-81.923253%5D%2C%20%5B34.010232%2C%20-117.069258%5D%2C%20%5B35.14693%2C%20-80.92612%5D%2C%20%5B33.772088%2C%20-117.909208%5D%2C%20%5B45.424105%2C%20-122.590089%5D%2C%20%5B33.921672%2C%20-117.288457%5D%2C%20%5B41.63879%2C%20-81.37928%5D%2C%20%5B28.28683%2C%20-81.58883%5D%2C%20%5B40.696227%2C%20-73.978452%5D%2C%20%5B43.14755%2C%20-86.21109%5D%2C%20%5B34.805634%2C%20-82.432543%5D%2C%20%5B37.251924%2C%20-121.937438%5D%2C%20%5B42.104576%2C%20-88.33524%5D%2C%20%5B40.93031%2C%20-75.09736%5D%2C%20%5B35.15952%2C%20-80.97068%5D%2C%20%5B33.333003%2C%20-117.235844%5D%2C%20%5B40.70846%2C%20-74.18769%5D%2C%20%5B35.815533%2C%20-80.860932%5D%2C%20%5B32.895671%2C%20-96.891238%5D%2C%20%5B37.021907%2C%20-120.13248%5D%2C%20%5B33.559343%2C%20-117.672864%5D%2C%20%5B29.663526%2C%20-95.258637%5D%2C%20%5B31.186739%2C%20-83.761839%5D%2C%20%5B38.679248%2C%20-123.427205%5D%2C%20%5B37.70074%2C%20-121.79365%5D%2C%20%5B42.94494%2C%20-78.7661%5D%2C%20%5B40.204474%2C%20-74.256131%5D%2C%20%5B40.259844%2C%20-112.230242%5D%2C%20%5B30.477736%2C%20-91.109316%5D%2C%20%5B39.023034%2C%20-119.945413%5D%2C%20%5B41.90585%2C%20-87.958334%5D%2C%20%5B44.849789%2C%20-123.00972%5D%2C%20%5B35.22222%2C%20-80.77945%5D%2C%20%5B45.08717%2C%20-93.28801%5D%2C%20%5B40.937687%2C%20-73.83762%5D%2C%20%5B33.995743%2C%20-117.874428%5D%2C%20%5B39.42491%2C%20-75.03981%5D%2C%20%5B33.993621%2C%20-117.358177%5D%2C%20%5B42.98836%2C%20-85.60507%5D%2C%20%5B34.05308%2C%20-117.5481%5D%2C%20%5B33.83426%2C%20-117.93701%5D%2C%20%5B44.480238%2C%20-74.85113%5D%2C%20%5B37.597289%2C%20-77.491438%5D%2C%20%5B34.42763%2C%20-118.41523%5D%2C%20%5B37.77685%2C%20-122.23625%5D%2C%20%5B44.84048%2C%20-93.24377%5D%2C%20%5B28.33629%2C%20-81.54215%5D%2C%20%5B33.559595%2C%20-117.672082%5D%2C%20%5B42.403484%2C%20-83.426774%5D%2C%20%5B35.20549%2C%20-80.86246%5D%2C%20%5B41.205655%2C%20-81.338484%5D%2C%20%5B37.14588%2C%20-80.34344%5D%2C%20%5B25.83548%2C%20-80.20618%5D%2C%20%5B40.436584%2C%20-120.74376%5D%2C%20%5B40.17821%2C%20-76.60087%5D%2C%20%5B44.7249%2C%20-124.05819%5D%2C%20%5B40.72875%2C%20-73.90911%5D%2C%20%5B39.2409%2C%20-94.65836%5D%2C%20%5B40.926854%2C%20-73.857469%5D%2C%20%5B37.71122%2C%20-122.16472%5D%2C%20%5B25.471643%2C%20-80.449196%5D%2C%20%5B44.16514%2C%20-93.94902%5D%2C%20%5B37.86984%2C%20-121.686318%5D%2C%20%5B44.474984%2C%20-123.469043%5D%2C%20%5B45.65987%2C%20-118.73672%5D%2C%20%5B39.05296%2C%20-94.4971%5D%2C%20%5B40.93069%2C%20-73.85278%5D%2C%20%5B27.35231%2C%20-82.51401%5D%2C%20%5B39.39882%2C%20-76.55215%5D%2C%20%5B37.39925%2C%20-77.42443%5D%2C%20%5B35.03559%2C%20-89.9966%5D%2C%20%5B38.32745%2C%20-104.71442%5D%2C%20%5B33.388526%2C%20-117.227826%5D%2C%20%5B36.678585%2C%20-121.707914%5D%2C%20%5B39.506233%2C%20-76.328171%5D%2C%20%5B28.822901%2C%20-81.331541%5D%2C%20%5B43.91497%2C%20-93.27693%5D%2C%20%5B36.85473%2C%20-121.633065%5D%2C%20%5B38.049425%2C%20-120.631141%5D%2C%20%5B34.14829%2C%20-118.08609%5D%2C%20%5B34.02362%2C%20-118.24268%5D%2C%20%5B37.71959%2C%20-77.44834%5D%2C%20%5B34.12871%2C%20-117.93862%5D%2C%20%5B37.701376%2C%20-121.877421%5D%2C%20%5B26.84698%2C%20-80.12985%5D%2C%20%5B32.793534%2C%20-96.726218%5D%2C%20%5B32.972753%2C%20-96.922147%5D%2C%20%5B33.687994%2C%20-117.907896%5D%2C%20%5B38.16735%2C%20-122.20279%5D%2C%20%5B39.589047%2C%20-122.209727%5D%2C%20%5B32.961717%2C%20-117.246093%5D%2C%20%5B44.785147%2C%20-69.110085%5D%2C%20%5B37.87531%2C%20-122.04553%5D%2C%20%5B39.02849%2C%20-84.57779%5D%2C%20%5B41.424657%2C%20-73.355995%5D%2C%20%5B35.83721%2C%20-78.61319%5D%2C%20%5B32.936207%2C%20-96.902257%5D%2C%20%5B38.40477%2C%20-121.3858%5D%2C%20%5B25.689146%2C%20-80.382872%5D%2C%20%5B37.213538%2C%20-119.708539%5D%2C%20%5B33.54276%2C%20-112.11244%5D%2C%20%5B36.066774%2C%20-86.686881%5D%2C%20%5B25.939421%2C%20-80.292374%5D%2C%20%5B45.52644%2C%20-122.68673%5D%2C%20%5B28.098445%2C%20-82.502174%5D%2C%20%5B34.036921%2C%20-118.088854%5D%2C%20%5B33.82817%2C%20-84.48709%5D%2C%20%5B35.26014%2C%20-81.10475%5D%2C%20%5B34.068696%2C%20-117.363426%5D%2C%20%5B41.51116%2C%20-87.5778%5D%2C%20%5B28.284864%2C%20-82.187951%5D%2C%20%5B39.00163%2C%20-76.98325%5D%2C%20%5B36.045902%2C%20-86.660568%5D%2C%20%5B39.08162%2C%20-94.68067%5D%2C%20%5B41.26373%2C%20-73.68382%5D%2C%20%5B32.3455%2C%20-90.84008%5D%2C%20%5B33.91137%2C%20-118.16769%5D%2C%20%5B38.866212%2C%20-77.140603%5D%2C%20%5B41.576204%2C%20-87.522328%5D%2C%20%5B40.72812%2C%20-111.96811%5D%2C%20%5B29.968793%2C%20-90.029356%5D%2C%20%5B38.743948%2C%20-121.226127%5D%2C%20%5B25.773912%2C%20-80.199729%5D%2C%20%5B41.00376%2C%20-73.91875%5D%2C%20%5B42.27254%2C%20-120.73994%5D%2C%20%5B40.68416%2C%20-73.72604%5D%2C%20%5B43.70112%2C%20-123.20382%5D%2C%20%5B41.94639%2C%20-71.48028%5D%2C%20%5B45.30205%2C%20-121.74588%5D%2C%20%5B40.184619%2C%20-74.730967%5D%2C%20%5B46.369096%2C%20-94.904505%5D%2C%20%5B33.82729%2C%20-118.08229%5D%2C%20%5B44.06236%2C%20-123.04797%5D%2C%20%5B45.15939%2C%20-93.16343%5D%2C%20%5B45.71041%2C%20-121.50849%5D%2C%20%5B37.460086%2C%20-76.841687%5D%2C%20%5B41.839445%2C%20-83.482478%5D%2C%20%5B33.967466%2C%20-118.232746%5D%2C%20%5B35.329547%2C%20-119.25239%5D%2C%20%5B33.732072%2C%20-112.121669%5D%2C%20%5B40.66454%2C%20-73.8454%5D%2C%20%5B30.41781%2C%20-81.56577%5D%2C%20%5B38.338481%2C%20-75.574671%5D%2C%20%5B27.42408%2C%20-82.575495%5D%2C%20%5B37.31029%2C%20-120.512278%5D%2C%20%5B33.4606%2C%20-117.65999%5D%2C%20%5B36.8464%2C%20-75.99852%5D%2C%20%5B25.80943%2C%20-80.315635%5D%2C%20%5B40.849698%2C%20-73.94293%5D%2C%20%5B34.79456%2C%20-118.847656%5D%2C%20%5B26.76417%2C%20-80.09335%5D%2C%20%5B40.84408%2C%20-73.92593%5D%2C%20%5B43.261364%2C%20-123.358492%5D%2C%20%5B38.491676%2C%20-121.434229%5D%2C%20%5B33.67911%2C%20-115.96946%5D%2C%20%5B40.76441%2C%20-73.69185%5D%2C%20%5B28.358675%2C%20-81.340294%5D%2C%20%5B33.993233%2C%20-117.357255%5D%2C%20%5B42.38537%2C%20-117.8522%5D%2C%20%5B34.263636%2C%20-119.093748%5D%2C%20%5B36.988247%2C%20-122.003489%5D%2C%20%5B37.161674%2C%20-121.661928%5D%2C%20%5B39.823969%2C%20-86.205886%5D%2C%20%5B41.994696%2C%20-87.873419%5D%2C%20%5B41.87451%2C%20-87.71081%5D%2C%20%5B47.589971%2C%20-122.30769%5D%2C%20%5B33.523254%2C%20-112.134256%5D%2C%20%5B33.964044%2C%20-117.325059%5D%2C%20%5B38.664109%2C%20-121.262169%5D%2C%20%5B39.01251%2C%20-76.49575%5D%2C%20%5B39.24811%2C%20-84.44608%5D%2C%20%5B36.10101%2C%20-115.14978%5D%2C%20%5B34.065469%2C%20-117.500668%5D%2C%20%5B40.54533%2C%20-111.89577%5D%2C%20%5B45.53001%2C%20-122.66523%5D%2C%20%5B40.70347%2C%20-74.15341%5D%2C%20%5B33.78013%2C%20-117.48953%5D%2C%20%5B44.63835%2C%20-92.77236%5D%2C%20%5B40.46767%2C%20-111.91092%5D%2C%20%5B34.164496%2C%20-118.623281%5D%2C%20%5B33.91048%2C%20-118.07056%5D%2C%20%5B25.71721%2C%20-80.328645%5D%2C%20%5B39.928531%2C%20-122.235013%5D%2C%20%5B45.76825%2C%20-119.235951%5D%2C%20%5B42.49573%2C%20-83.36595%5D%2C%20%5B38.883154%2C%20-77.22808%5D%2C%20%5B32.918052%2C%20-96.766617%5D%2C%20%5B36.733597%2C%20-119.498883%5D%2C%20%5B26.16219%2C%20-80.16231%5D%2C%20%5B35.90833%2C%20-80.06794%5D%2C%20%5B34.18337%2C%20-118.131612%5D%2C%20%5B38.972115%2C%20-94.546128%5D%2C%20%5B26.627801%2C%20-80.067726%5D%2C%20%5B34.01753%2C%20-117.81677%5D%2C%20%5B41.556612%2C%20-72.885092%5D%2C%20%5B37.55864%2C%20-77.45194%5D%2C%20%5B39.706832%2C%20-75.597127%5D%2C%20%5B33.673994%2C%20-117.83574%5D%2C%20%5B34.06627%2C%20-118.216196%5D%2C%20%5B33.91173%2C%20-118.18015%5D%2C%20%5B40.270358%2C%20-76.999993%5D%2C%20%5B39.169703%2C%20-78.152564%5D%2C%20%5B39.08901%2C%20-84.47495%5D%2C%20%5B34.07145%2C%20-117.86819%5D%2C%20%5B37.29083%2C%20-120.46103%5D%2C%20%5B33.54727%2C%20-117.67304%5D%2C%20%5B41.16655%2C%20-73.21749%5D%2C%20%5B43.15668%2C%20-77.63271%5D%2C%20%5B33.00738%2C%20-96.82909%5D%2C%20%5B40.69306%2C%20-73.5757%5D%2C%20%5B37.992603%2C%20-122.306302%5D%2C%20%5B34.09559%2C%20-118.2441%5D%2C%20%5B38.953819%2C%20-77.268218%5D%2C%20%5B37.5419%2C%20-77.39038%5D%2C%20%5B32.793534%2C%20-96.726218%5D%2C%20%5B32.884788%2C%20-111.68677%5D%2C%20%5B35.017569%2C%20-85.206116%5D%2C%20%5B37.711166%2C%20-121.719138%5D%2C%20%5B41.76364%2C%20-87.90538%5D%2C%20%5B32.85113%2C%20-96.81342%5D%2C%20%5B38.795658%2C%20-77.139293%5D%2C%20%5B44.09537%2C%20-123.16879%5D%2C%20%5B38.965991%2C%20-94.723629%5D%2C%20%5B32.814574%2C%20-96.644929%5D%2C%20%5B27.87708%2C%20-82.32681%5D%2C%20%5B38.6387%2C%20-121.38426%5D%2C%20%5B37.662731%2C%20-77.630122%5D%2C%20%5B38.244052%2C%20-86.094937%5D%2C%20%5B29.601967%2C%20-82.373369%5D%2C%20%5B32.748645%2C%20-117.122304%5D%2C%20%5B44.43771%2C%20-73.09599%5D%2C%20%5B34.05442%2C%20-118.209128%5D%2C%20%5B44.9531%2C%20-93.08235%5D%2C%20%5B34.030426%2C%20-117.583967%5D%2C%20%5B37.896801%2C%20-122.311471%5D%2C%20%5B40.10444%2C%20-76.425623%5D%2C%20%5B42.35212%2C%20-83.21625%5D%2C%20%5B38.510425%2C%20-121.45363%5D%2C%20%5B39.29513%2C%20-76.64731%5D%2C%20%5B39.53405%2C%20-119.76114%5D%2C%20%5B37.89722%2C%20-122.080303%5D%2C%20%5B31.743267%2C%20-106.330307%5D%2C%20%5B37.81185%2C%20-122.27394%5D%2C%20%5B34.131013%2C%20-117.206751%5D%2C%20%5B34.0453%2C%20-118.27086%5D%2C%20%5B33.87649%2C%20-118.10532%5D%2C%20%5B33.9743%2C%20-81.19657%5D%2C%20%5B33.383746%2C%20-117.579012%5D%2C%20%5B42.29902%2C%20-73.23165%5D%2C%20%5B40.66444%2C%20-73.84532%5D%2C%20%5B34.01927%2C%20-117.49854%5D%2C%20%5B34.601974%2C%20-118.143177%5D%2C%20%5B43.216524%2C%20-121.783218%5D%2C%20%5B40.077592%2C%20-75.159511%5D%2C%20%5B35.164%2C%20-89.86452%5D%2C%20%5B38.67108%2C%20-121.59607%5D%2C%20%5B37.830937%2C%20-122.267273%5D%2C%20%5B38.2228%2C%20-85.51084%5D%2C%20%5B37.533234%2C%20-120.890303%5D%2C%20%5B38.584263%2C%20-77.31983%5D%2C%20%5B37.144792%2C%20-121.636087%5D%2C%20%5B29.85122%2C%20-95.50942%5D%2C%20%5B40.023091%2C%20-121.109676%5D%2C%20%5B34.078633%2C%20-117.54497%5D%2C%20%5B33.96169%2C%20-118.368963%5D%2C%20%5B37.524225%2C%20-77.428061%5D%2C%20%5B41.89751%2C%20-88.10197%5D%2C%20%5B38.346243%2C%20-77.458206%5D%2C%20%5B37.27904%2C%20-121.80681%5D%2C%20%5B34.006254%2C%20-117.827229%5D%2C%20%5B24.706414%2C%20-81.127941%5D%2C%20%5B33.88057%2C%20-117.56958%5D%2C%20%5B33.956691%2C%20-81.092759%5D%2C%20%5B38.90383%2C%20-76.942262%5D%2C%20%5B38.47189%2C%20-121.82541%5D%2C%20%5B33.74351%2C%20-84.37566%5D%2C%20%5B43.05879%2C%20-76.09929%5D%2C%20%5B45.54161%2C%20-122.67263%5D%2C%20%5B45.528871%2C%20-122.602217%5D%2C%20%5B41.33742%2C%20-74.83513%5D%2C%20%5B34.16511%2C%20-118.48886%5D%2C%20%5B25.88111%2C%20-80.32339%5D%2C%20%5B40.744181%2C%20-74.213794%5D%2C%20%5B43.8515%2C%20-88.57276%5D%2C%20%5B34.991194%2C%20-85.401637%5D%2C%20%5B38.85385%2C%20-77.21989%5D%2C%20%5B47.91507%2C%20-122.2087%5D%2C%20%5B42.26317%2C%20-71.5631%5D%2C%20%5B32.92215%2C%20-96.75224%5D%2C%20%5B29.370402%2C%20-81.509217%5D%2C%20%5B40.98848%2C%20-73.666365%5D%2C%20%5B42.430524%2C%20-82.924326%5D%2C%20%5B41.946%2C%20-87.75692%5D%2C%20%5B45.12998%2C%20-93.39108%5D%2C%20%5B26.567376%2C%20-80.069485%5D%2C%20%5B38.020173%2C%20-122.264657%5D%2C%20%5B34.1459%2C%20-118.16499%5D%2C%20%5B34.506473%2C%20-117.559671%5D%2C%20%5B40.7391%2C%20-74.06774%5D%2C%20%5B33.93229%2C%20-118.34836%5D%2C%20%5B45.28251%2C%20-94.11127%5D%2C%20%5B33.79364%2C%20-118.28389%5D%2C%20%5B42.44787%2C%20-83.21992%5D%2C%20%5B30.381461%2C%20-81.555551%5D%2C%20%5B33.674887%2C%20-117.8384%5D%2C%20%5B35.790356%2C%20-119.250658%5D%2C%20%5B31.157988%2C%20-87.378612%5D%2C%20%5B38.990617%2C%20-77.157357%5D%2C%20%5B38.7605%2C%20-78.63675%5D%2C%20%5B27.967811%2C%20-82.72979%5D%2C%20%5B33.193615%2C%20-117.25369%5D%2C%20%5B29.722292%2C%20-95.327643%5D%2C%20%5B35.16375%2C%20-80.95795%5D%2C%20%5B46.09334%2C%20-123.91735%5D%2C%20%5B37.99405%2C%20-122.03914%5D%2C%20%5B27.86694%2C%20-82.627006%5D%2C%20%5B32.860599%2C%20-96.8922%5D%2C%20%5B34.12151%2C%20-117.91105%5D%2C%20%5B29.71254%2C%20-95.176382%5D%2C%20%5B45.00762%2C%20-123.38829%5D%2C%20%5B44.43355%2C%20-121.199197%5D%2C%20%5B34.08874%2C%20-117.99432%5D%2C%20%5B40.98735%2C%20-73.68024%5D%2C%20%5B37.470537%2C%20-122.206666%5D%2C%20%5B38.00993%2C%20-122.2284%5D%2C%20%5B37.51215%2C%20-121.93846%5D%2C%20%5B42.00062%2C%20-91.77442%5D%2C%20%5B33.914576%2C%20-118.370284%5D%2C%20%5B37.708781%2C%20-122.170963%5D%2C%20%5B37.84857%2C%20-122.23405%5D%2C%20%5B34.06926%2C%20-118.407179%5D%2C%20%5B45.79547%2C%20-119.3954%5D%2C%20%5B35.888394%2C%20-80.53899%5D%2C%20%5B37.52203%2C%20-120.885532%5D%2C%20%5B35.2349%2C%20-80.83786%5D%2C%20%5B37.62446%2C%20-122.42863%5D%2C%20%5B35.811556%2C%20-94.190908%5D%2C%20%5B42.39458%2C%20-71.2624%5D%2C%20%5B34.935354%2C%20-82.004667%5D%2C%20%5B42.275873%2C%20-117.789467%5D%2C%20%5B37.487125%2C%20-122.395757%5D%2C%20%5B40.10655%2C%20-82.98045%5D%2C%20%5B36.747859%2C%20-119.822886%5D%2C%20%5B37.17026%2C%20-121.9898%5D%2C%20%5B33.687214%2C%20-117.872459%5D%2C%20%5B34.24973%2C%20-117.442178%5D%2C%20%5B34.32375%2C%20-118.50083%5D%2C%20%5B40.73752%2C%20-73.85096%5D%2C%20%5B37.68158%2C%20-77.66531%5D%2C%20%5B38.79626%2C%20-77.19077%5D%2C%20%5B44.89664%2C%20-93.35008%5D%2C%20%5B38.759801%2C%20-112.561039%5D%2C%20%5B34.026222%2C%20-117.333453%5D%2C%20%5B40.683352%2C%20-89.581771%5D%2C%20%5B43.645359%2C%20-92.38934%5D%2C%20%5B44.079523%2C%20-122.754485%5D%2C%20%5B41.38593%2C%20-73.600175%5D%2C%20%5B37.75024%2C%20-121.13897%5D%2C%20%5B32.686127%2C%20-97.463894%5D%2C%20%5B34.17033%2C%20-118.61033%5D%2C%20%5B30.255396%2C%20-82.901077%5D%2C%20%5B34.06001%2C%20-118.24455%5D%2C%20%5B42.3978%2C%20-83.069065%5D%2C%20%5B35.31019%2C%20-80.74566%5D%2C%20%5B43.07564%2C%20-76.49236%5D%2C%20%5B34.890053%2C%20-82.572549%5D%2C%20%5B29.655604%2C%20-95.253593%5D%2C%20%5B41.47596%2C%20-81.8771%5D%2C%20%5B44.628729%2C%20-123.06226%5D%2C%20%5B33.97278%2C%20-117.33217%5D%2C%20%5B42.383959%2C%20-122.36728%5D%2C%20%5B38.67176%2C%20-121.72857%5D%2C%20%5B41.22306%2C%20-96.04787%5D%2C%20%5B39.088058%2C%20-94.68071%5D%2C%20%5B38.927613%2C%20-121.086806%5D%2C%20%5B28.23302%2C%20-81.64965%5D%2C%20%5B34.341734%2C%20-118.522685%5D%2C%20%5B37.320892%2C%20-121.940335%5D%2C%20%5B43.084744%2C%20-71.473191%5D%2C%20%5B37.549907%2C%20-122.025421%5D%2C%20%5B34.229933%2C%20-117.415856%5D%2C%20%5B40.589897%2C%20-79.600108%5D%2C%20%5B40.01396%2C%20-78.46993%5D%2C%20%5B35.112666%2C%20-118.521419%5D%2C%20%5B45.18921%2C%20-118.76542%5D%2C%20%5B39.6967%2C%20-76.31969%5D%2C%20%5B41.95935%2C%20-87.83664%5D%2C%20%5B38.589909%2C%20-121.401496%5D%2C%20%5B41.170284%2C%20-112.005459%5D%2C%20%5B25.899741%2C%20-80.211272%5D%2C%20%5B34.491639%2C%20-118.616882%5D%2C%20%5B39.28573%2C%20-84.4238%5D%2C%20%5B38.485923%2C%20-122.35369%5D%2C%20%5B40.68819%2C%20-111.54413%5D%2C%20%5B34.02504%2C%20-117.728488%5D%2C%20%5B28.169944%2C%20-80.646132%5D%2C%20%5B42.924981%2C%20-71.37685%5D%2C%20%5B37.22184%2C%20-120.371156%5D%2C%20%5B34.608756%2C%20-79.086699%5D%2C%20%5B34.772616%2C%20-120.428683%5D%2C%20%5B37.983942%2C%20-121.259998%5D%2C%20%5B33.943558%2C%20-117.079399%5D%2C%20%5B26.447321%2C%20-81.938966%5D%2C%20%5B25.884769%2C%20-80.230812%5D%2C%20%5B34.068399%2C%20-117.338908%5D%2C%20%5B32.963588%2C%20-117.099141%5D%2C%20%5B33.961733%2C%20-117.320067%5D%2C%20%5B35.299715%2C%20-80.982695%5D%2C%20%5B33.89947%2C%20-84.36104%5D%2C%20%5B35.20244%2C%20-80.72588%5D%2C%20%5B30.21727%2C%20-81.76137%5D%2C%20%5B46.91821%2C%20-123.71943%5D%2C%20%5B37.549323%2C%20-122.292495%5D%2C%20%5B33.79855%2C%20-117.23178%5D%2C%20%5B47.813749%2C%20-122.6456%5D%2C%20%5B36.10095%2C%20-95.86866%5D%2C%20%5B30.43331%2C%20-81.72777%5D%2C%20%5B25.687068%2C%20-80.430129%5D%2C%20%5B32.277316%2C%20-82.407507%5D%2C%20%5B28.513693%2C%20-81.395951%5D%2C%20%5B30.292106%2C%20-97.798179%5D%2C%20%5B28.451938%2C%20-81.400468%5D%2C%20%5B45.877368%2C%20-112.117466%5D%2C%20%5B32.92506%2C%20-96.80223%5D%2C%20%5B43.07953%2C%20-71.47225%5D%2C%20%5B34.75579%2C%20-82.47639%5D%2C%20%5B29.54795%2C%20-81.21496%5D%2C%20%5B34.374858%2C%20-118.562882%5D%2C%20%5B41.83026%2C%20-88.07748%5D%2C%20%5B30.0315%2C%20-89.927977%5D%2C%20%5B30.603594%2C%20-87.127849%5D%2C%20%5B35.59466%2C%20-97.55823%5D%2C%20%5B36.03515%2C%20-86.78306%5D%2C%20%5B25.626145%2C%20-80.41645%5D%2C%20%5B44.85647%2C%20-117.81663%5D%2C%20%5B33.88644%2C%20-118.35526%5D%2C%20%5B40.636398%2C%20-111.914977%5D%2C%20%5B33.356283%2C%20-117.530676%5D%2C%20%5B45.976935%2C%20-95.66402%5D%2C%20%5B34.014691%2C%20-117.550503%5D%2C%20%5B27.940109%2C%20-82.476135%5D%2C%20%5B32.64266%2C%20-97.18291%5D%2C%20%5B26.368335%2C%20-80.11828%5D%2C%20%5B33.784643%2C%20-117.883526%5D%2C%20%5B40.337059%2C%20-76.927119%5D%2C%20%5B33.918092%2C%20-118.278286%5D%2C%20%5B47.19248%2C%20-93.4157%5D%2C%20%5B40.76208%2C%20-74.21408%5D%2C%20%5B33.67779%2C%20-117.75841%5D%2C%20%5B35.71567%2C%20-78.84109%5D%2C%20%5B33.674588%2C%20-117.318743%5D%2C%20%5B33.771914%2C%20-118.280022%5D%2C%20%5B32.90852%2C%20-96.89189%5D%2C%20%5B34.134008%2C%20-117.676244%5D%2C%20%5B35.22598%2C%20-114.13225%5D%2C%20%5B38.58047%2C%20-121.95303%5D%2C%20%5B45.599171%2C%20-122.68429%5D%2C%20%5B40.79759%2C%20-74.262717%5D%2C%20%5B27.857186%2C%20-82.325447%5D%2C%20%5B39.60568%2C%20-77.72584%5D%2C%20%5B37.99234%2C%20-121.2527%5D%2C%20%5B34.08386%2C%20-84.26393%5D%2C%20%5B40.064256%2C%20-80.588557%5D%2C%20%5B40.476239%2C%20-104.99205%5D%2C%20%5B29.78912%2C%20-95.33995%5D%2C%20%5B33.003798%2C%20-96.699932%5D%2C%20%5B30.003544%2C%20-90.031617%5D%2C%20%5B29.6307%2C%20-95.16875%5D%2C%20%5B35.875926%2C%20-78.540232%5D%2C%20%5B47.63485%2C%20-122.32528%5D%2C%20%5B38.834255%2C%20-77.217224%5D%2C%20%5B39.09611%2C%20-94.57719%5D%2C%20%5B43.05749%2C%20-76.10503%5D%2C%20%5B47.61297%2C%20-122.30271%5D%2C%20%5B32.95122%2C%20-96.73415%5D%2C%20%5B25.6803%2C%20-80.316576%5D%2C%20%5B33.96844%2C%20-117.84913%5D%2C%20%5B37.56469%2C%20-122.27235%5D%2C%20%5B37.77444%2C%20-122.23194%5D%2C%20%5B32.883778%2C%20-80.715341%5D%2C%20%5B38.89581%2C%20-121.590472%5D%2C%20%5B37.192987%2C%20-77.484937%5D%2C%20%5B34.852996%2C%20-82.331372%5D%2C%20%5B32.69067%2C%20-117.11837%5D%2C%20%5B40.769297%2C%20-73.910929%5D%2C%20%5B42.771395%2C%20-73.430674%5D%2C%20%5B34.06046%2C%20-118.21515%5D%2C%20%5B30.32337%2C%20-97.679282%5D%2C%20%5B25.712548%2C%20-80.382427%5D%2C%20%5B33.46102%2C%20-112.29573%5D%2C%20%5B39.892355%2C%20-94.155503%5D%2C%20%5B43.149725%2C%20-124.17576%5D%2C%20%5B38.673173%2C%20-121.635721%5D%2C%20%5B33.875862%2C%20-118.164227%5D%2C%20%5B33.992005%2C%20-117.358121%5D%2C%20%5B26.330517%2C%20-81.808283%5D%2C%20%5B43.055695%2C%20-85.07515%5D%2C%20%5B45.90651%2C%20-123.74548%5D%2C%20%5B42.376068%2C%20-87.924211%5D%2C%20%5B40.76196%2C%20-98.5916%5D%2C%20%5B40.57911%2C%20-75.62843%5D%2C%20%5B41.84636%2C%20-87.97236%5D%2C%20%5B34.14916%2C%20-118.37314%5D%2C%20%5B41.88819%2C%20-87.62452%5D%2C%20%5B29.778082%2C%20-95.433263%5D%2C%20%5B37.671271%2C%20-122.476261%5D%2C%20%5B41.88977%2C%20-87.98883%5D%2C%20%5B38.50048%2C%20-121.431228%5D%2C%20%5B27.641466%2C%20-82.670748%5D%2C%20%5B34.03665%2C%20-118.16132%5D%2C%20%5B32.884456%2C%20-96.89817%5D%2C%20%5B39.76012%2C%20-105.65267%5D%2C%20%5B34.035328%2C%20-118.369449%5D%2C%20%5B41.240887%2C%20-73.11731%5D%2C%20%5B40.683062%2C%20-111.902631%5D%2C%20%5B40.51689%2C%20-74.81825%5D%2C%20%5B28.79257%2C%20-81.34653%5D%2C%20%5B35.46892%2C%20-97.52872%5D%2C%20%5B41.49875%2C%20-95.44465%5D%2C%20%5B33.90359%2C%20-118.192858%5D%2C%20%5B34.053554%2C%20-117.781483%5D%2C%20%5B42.735384%2C%20-123.370296%5D%2C%20%5B44.086141%2C%20-123.060312%5D%2C%20%5B36.261304%2C%20-86.712523%5D%2C%20%5B36.05853%2C%20-79.64345%5D%2C%20%5B30.394469%2C%20-97.845439%5D%2C%20%5B34.017975%2C%20-117.472217%5D%2C%20%5B38.79217%2C%20-90.56153%5D%2C%20%5B29.3994%2C%20-98.51159%5D%2C%20%5B34.06829%2C%20-118.03763%5D%2C%20%5B25.627078%2C%20-80.385308%5D%2C%20%5B26.548383%2C%20-81.761923%5D%2C%20%5B41.06667%2C%20-111.97018%5D%2C%20%5B39.88467%2C%20-105.4742%5D%2C%20%5B41.39909%2C%20-82.57656%5D%2C%20%5B37.215245%2C%20-119.708118%5D%2C%20%5B35.40623%2C%20-97.53909%5D%2C%20%5B39.16042%2C%20-77.63828%5D%2C%20%5B38.56038%2C%20-121.48149%5D%2C%20%5B41.75761%2C%20-72.70055%5D%2C%20%5B26.70206%2C%20-80.07269%5D%2C%20%5B29.955021%2C%20-90.089599%5D%2C%20%5B39.8762%2C%20-75.282065%5D%2C%20%5B33.731506%2C%20-117.812189%5D%2C%20%5B25.849341%2C%20-80.207225%5D%2C%20%5B41.83501%2C%20-88.00597%5D%2C%20%5B40.6271%2C%20-73.891078%5D%2C%20%5B41.2096%2C%20-111.99704%5D%2C%20%5B38.80828%2C%20-104.82239%5D%2C%20%5B29.51345%2C%20-98.397191%5D%2C%20%5B40.82269%2C%20-73.88454%5D%2C%20%5B33.680356%2C%20-78.971981%5D%2C%20%5B34.84242%2C%20-82.282737%5D%2C%20%5B44.873261%2C%20-84.689438%5D%2C%20%5B41.88073%2C%20-87.72565%5D%2C%20%5B37.72%2C%20-121.65893%5D%2C%20%5B37.15882%2C%20-121.98263%5D%2C%20%5B28.56546%2C%20-81.165591%5D%2C%20%5B40.4746%2C%20-74.40699%5D%2C%20%5B43.36791%2C%20-124.21313%5D%2C%20%5B35.235868%2C%20-80.839086%5D%2C%20%5B46.40787%2C%20-95.280014%5D%2C%20%5B34.027866%2C%20-118.448957%5D%2C%20%5B47.531133%2C%20-122.334749%5D%2C%20%5B44.93108%2C%20-123.11296%5D%2C%20%5B44.09278%2C%20-123.102074%5D%2C%20%5B41.06019%2C%20-74.02414%5D%2C%20%5B39.3951%2C%20-76.695256%5D%2C%20%5B45.05953%2C%20-93.14716%5D%2C%20%5B38.902386%2C%20-76.943985%5D%2C%20%5B41.87135%2C%20-87.83999%5D%2C%20%5B39.95772%2C%20-82.96331%5D%2C%20%5B41.16167%2C%20-112.044348%5D%2C%20%5B34.201108%2C%20-118.473406%5D%2C%20%5B37.630176%2C%20-122.434834%5D%2C%20%5B44.97047%2C%20-92.95887%5D%2C%20%5B33.898154%2C%20-118.370186%5D%2C%20%5B34.02225%2C%20-117.55438%5D%2C%20%5B45.50165%2C%20-122.94197%5D%2C%20%5B34.01357%2C%20-84.06663%5D%2C%20%5B38.568247%2C%20-121.510798%5D%2C%20%5B33.691955%2C%20-80.222549%5D%2C%20%5B38.74046%2C%20-77.19009%5D%2C%20%5B30.28344%2C%20-97.65486%5D%2C%20%5B25.910063%2C%20-80.210076%5D%2C%20%5B36.14434%2C%20-115.19084%5D%2C%20%5B41.75358%2C%20-88.205111%5D%2C%20%5B40.08794%2C%20-74.10213%5D%2C%20%5B41.96854%2C%20-87.69867%5D%2C%20%5B33.190787%2C%20-117.242339%5D%2C%20%5B39.856301%2C%20-104.987278%5D%2C%20%5B32.26827%2C%20-90.21012%5D%2C%20%5B45.65596%2C%20-110.94716%5D%2C%20%5B38.573802%2C%20-78.740226%5D%2C%20%5B33.65426%2C%20-111.88724%5D%2C%20%5B44.15343%2C%20-87.73273%5D%2C%20%5B40.74362%2C%20-74.15748%5D%2C%20%5B42.892378%2C%20-73.861728%5D%2C%20%5B33.778656%2C%20-117.876554%5D%2C%20%5B27.4366%2C%20-82.550772%5D%2C%20%5B37.68795%2C%20-122.0962%5D%2C%20%5B33.929654%2C%20-118.225684%5D%2C%20%5B33.916717%2C%20-84.342199%5D%2C%20%5B41.10211%2C%20-73.99729%5D%2C%20%5B40.74362%2C%20-75.265216%5D%2C%20%5B29.97331%2C%20-95.2812%5D%2C%20%5B33.00201%2C%20-96.77593%5D%2C%20%5B34.27679%2C%20-118.60172%5D%2C%20%5B42.37984%2C%20-88.06276%5D%2C%20%5B34.121334%2C%20-117.298642%5D%2C%20%5B33.759071%2C%20-78.968639%5D%2C%20%5B34.152729%2C%20-118.319841%5D%2C%20%5B25.839188%2C%20-80.233401%5D%2C%20%5B40.672543%2C%20-73.843317%5D%2C%20%5B41.362235%2C%20-123.989782%5D%2C%20%5B34.299305%2C%20-117.457033%5D%2C%20%5B45.426481%2C%20-122.744246%5D%2C%20%5B34.155567%2C%20-118.431243%5D%2C%20%5B33.862963%2C%20-117.538915%5D%2C%20%5B36.845027%2C%20-76.279271%5D%2C%20%5B38.663835%2C%20-121.273545%5D%2C%20%5B32.953162%2C%20-117.139501%5D%2C%20%5B34.134823%2C%20-117.347877%5D%2C%20%5B38.41405%2C%20-121.900075%5D%2C%20%5B34.164658%2C%20-118.296404%5D%2C%20%5B30.521566%2C%20-84.488899%5D%2C%20%5B41.47619%2C%20-87.32365%5D%2C%20%5B38.0143%2C%20-122.26926%5D%2C%20%5B33.68102%2C%20-117.85278%5D%2C%20%5B33.940919%2C%20-117.231642%5D%2C%20%5B33.740717%2C%20-117.833716%5D%2C%20%5B36.807793%2C%20-76.430736%5D%2C%20%5B40.67399%2C%20-73.80162%5D%2C%20%5B40.63032%2C%20-111.85837%5D%2C%20%5B44.972777%2C%20-122.99003%5D%2C%20%5B34.039864%2C%20-118.331044%5D%2C%20%5B36.16363%2C%20-95.87315%5D%2C%20%5B39.21032%2C%20-84.46306%5D%2C%20%5B41.52769%2C%20-112.06504%5D%2C%20%5B32.1633%2C%20-110.9863%5D%2C%20%5B37.952278%2C%20-122.327949%5D%2C%20%5B37.069023%2C%20-122.083693%5D%2C%20%5B26.467069%2C%20-80.08903%5D%2C%20%5B42.49573%2C%20-83.36595%5D%2C%20%5B36.26209%2C%20-115.07526%5D%2C%20%5B39.631345%2C%20-84.272553%5D%2C%20%5B29.724466%2C%20-95.389416%5D%2C%20%5B44.77347%2C%20-93.21721%5D%2C%20%5B43.242931%2C%20-71.542311%5D%2C%20%5B37.807639%2C%20-121.296954%5D%2C%20%5B34.49382%2C%20-118.27995%5D%2C%20%5B42.611587%2C%20-123.381281%5D%2C%20%5B40.7318%2C%20-74.0671%5D%2C%20%5B28.62975%2C%20-81.38909%5D%2C%20%5B32.742336%2C%20-96.818186%5D%2C%20%5B42.88416%2C%20-85.67391%5D%2C%20%5B32.70103%2C%20-117.120877%5D%2C%20%5B35.20833%2C%20-80.6701%5D%2C%20%5B44.21484%2C%20-93.95571%5D%2C%20%5B28.55226%2C%20-81.45656%5D%2C%20%5B36.29965%2C%20-119.636934%5D%2C%20%5B38.76758%2C%20-77.12094%5D%2C%20%5B37.881916%2C%20-122.308259%5D%2C%20%5B38.87782%2C%20-77.26996%5D%2C%20%5B40.05749%2C%20-76.39834%5D%2C%20%5B33.69897%2C%20-84.26148%5D%2C%20%5B33.165159%2C%20-87.547326%5D%2C%20%5B34.188516%2C%20-118.159463%5D%2C%20%5B32.76406%2C%20-117.12759%5D%2C%20%5B25.861827%2C%20-80.249499%5D%2C%20%5B33.119945%2C%20-80.275347%5D%2C%20%5B34.701767%2C%20-82.319236%5D%2C%20%5B30.423443%2C%20-84.28199%5D%2C%20%5B39.540881%2C%20-76.34948%5D%2C%20%5B42.44941%2C%20-91.89036%5D%2C%20%5B40.64524%2C%20-111.945458%5D%2C%20%5B34.172114%2C%20-118.46751%5D%2C%20%5B33.95246%2C%20-118.36938%5D%2C%20%5B36.15909%2C%20-115.234548%5D%2C%20%5B44.97346%2C%20-93.28759%5D%2C%20%5B25.971841%2C%20-80.260644%5D%2C%20%5B32.83151%2C%20-96.78069%5D%2C%20%5B45.53305%2C%20-122.56447%5D%2C%20%5B38.000229%2C%20-121.27003%5D%2C%20%5B29.810515%2C%20-95.335128%5D%2C%20%5B39.01378%2C%20-77.05241%5D%2C%20%5B27.267001%2C%20-82.528691%5D%2C%20%5B38.66843%2C%20-90.44884%5D%2C%20%5B37.415301%2C%20-77.726855%5D%2C%20%5B35.61888%2C%20-81.98591%5D%2C%20%5B40.728394%2C%20-73.928476%5D%2C%20%5B34.006956%2C%20-117.964227%5D%2C%20%5B28.45054%2C%20-81.33337%5D%2C%20%5B33.824237%2C%20-117.71677%5D%2C%20%5B34.143394%2C%20-118.17078%5D%2C%20%5B30.297432%2C%20-97.676026%5D%2C%20%5B32.180877%2C%20-96.906888%5D%2C%20%5B34.028308%2C%20-118.449313%5D%5D%2C%0A%20%20%20%20%20%20%20%20%20%20%20%20%20%20%20%20%7B%22blur%22%3A%2015%2C%20%22maxZoom%22%3A%2018%2C%20%22minOpacity%22%3A%200.5%2C%20%22radius%22%3A%2025%7D%0A%20%20%20%20%20%20%20%20%20%20%20%20%29.addTo%28map_1b70606e1c95461e9420f8ffdb9b5e74%29%3B%0A%20%20%20%20%20%20%20%20%0A%3C/script%3E onload=\"this.contentDocument.open();this.contentDocument.write(    decodeURIComponent(this.getAttribute('data-html')));this.contentDocument.close();\" allowfullscreen webkitallowfullscreen mozallowfullscreen></iframe></div></div>"
      ],
      "text/plain": [
       "<folium.folium.Map at 0x7fbd429c3210>"
      ]
     },
     "execution_count": 36,
     "metadata": {},
     "output_type": "execute_result"
    }
   ],
   "source": [
    "map = folium.Map()\n",
    "HeatMap(lat_lon_pairs).add_to(map)\n",
    "map"
   ]
  },
  {
   "cell_type": "markdown",
   "id": "0e511d52",
   "metadata": {
    "papermill": {
     "duration": 0.054988,
     "end_time": "2021-11-17T21:20:19.062783",
     "exception": false,
     "start_time": "2021-11-17T21:20:19.007795",
     "status": "completed"
    },
    "tags": []
   },
   "source": [
    "## Questions:\n",
    "1. Are accidents more in colder or warmer states?\n",
    "2. Which 5 states have the highest number of accidents? How about per capita?\n",
    "3. Does New York show up in the data? If yes, why is the count lower if this the most populated city.\n",
    "4. Among the top 100 cities in number of accidents, which states do they belong to most frequently.\n",
    "5. What time of the day are accidents most frequent in? - ANSWERED\n",
    "6. Which days of the week have the most accidents?\n",
    "7. Which months have the most accidents?\n",
    "8. What is the trend of accidents year over year (decreasing/increasing?)\n",
    "9. When is accidents per unit of traffic the highest."
   ]
  },
  {
   "cell_type": "code",
   "execution_count": null,
   "id": "e968a930",
   "metadata": {
    "papermill": {
     "duration": 0.056458,
     "end_time": "2021-11-17T21:20:19.175434",
     "exception": false,
     "start_time": "2021-11-17T21:20:19.118976",
     "status": "completed"
    },
    "tags": []
   },
   "outputs": [],
   "source": []
  }
 ],
 "metadata": {
  "kernelspec": {
   "display_name": "Python 3",
   "language": "python",
   "name": "python3"
  },
  "language_info": {
   "codemirror_mode": {
    "name": "ipython",
    "version": 3
   },
   "file_extension": ".py",
   "mimetype": "text/x-python",
   "name": "python",
   "nbconvert_exporter": "python",
   "pygments_lexer": "ipython3",
   "version": "3.7.10"
  },
  "papermill": {
   "default_parameters": {},
   "duration": 54.251888,
   "end_time": "2021-11-17T21:20:20.442162",
   "environment_variables": {},
   "exception": null,
   "input_path": "__notebook__.ipynb",
   "output_path": "__notebook__.ipynb",
   "parameters": {},
   "start_time": "2021-11-17T21:19:26.190274",
   "version": "2.3.3"
  }
 },
 "nbformat": 4,
 "nbformat_minor": 5
}
